{
 "cells": [
  {
   "cell_type": "markdown",
   "metadata": {},
   "source": [
    "### Basic ML Model Monitoring with MLFlow\n",
    "**Description**: Set up a basic ML model monitoring pipeline using MLFlow to track experiment parameters and results.\n",
    "\n",
    "**Steps**:\n",
    "1. Installation\n",
    "2. Set Up MLFlow Tracking\n",
    "3. Training a Simple Model\n",
    "4. Logging Model and Metrics\n",
    "5. View Logged Data\n",
    "    - Access the MLFlow UI to view your logged parameters, metrics, and models."
   ]
  },
  {
   "cell_type": "code",
   "execution_count": 1,
   "metadata": {},
   "outputs": [
    {
     "name": "stderr",
     "output_type": "stream",
     "text": [
      "2025/05/28 11:41:17 INFO mlflow.tracking.fluent: Experiment with name 'Iris_Classification' does not exist. Creating a new experiment.\n"
     ]
    },
    {
     "name": "stdout",
     "output_type": "stream",
     "text": [
      "Starting model training and logging to MLflow...\n"
     ]
    },
    {
     "name": "stderr",
     "output_type": "stream",
     "text": [
      "\u001b[31m2025/05/28 11:41:21 WARNING mlflow.models.model: Model logged without a signature and input example. Please set `input_example` parameter when logging the model to auto infer the model signature.\u001b[0m\n"
     ]
    },
    {
     "name": "stdout",
     "output_type": "stream",
     "text": [
      "Run 00b7551f50aa4f19bb68f728749efa77 logged with accuracy: 1.0000\n",
      "\n",
      "To view MLflow UI, run the following command in your terminal:\n",
      "\n",
      "mlflow ui --port 5000\n",
      "Then open http://localhost:5000 in your browser to view experiments.\n",
      "\n"
     ]
    },
    {
     "name": "stderr",
     "output_type": "stream",
     "text": [
      "\u001b[31m2025/05/28 11:41:24 WARNING mlflow.models.model: Model logged without a signature and input example. Please set `input_example` parameter when logging the model to auto infer the model signature.\u001b[0m\n",
      ".\n",
      "----------------------------------------------------------------------\n",
      "Ran 1 test in 2.872s\n",
      "\n",
      "OK\n"
     ]
    },
    {
     "name": "stdout",
     "output_type": "stream",
     "text": [
      "Run c32d8e1103bd4b1990956f42b11ad01c logged with accuracy: 0.9667\n"
     ]
    }
   ],
   "source": [
    "# write your code from here\n",
    "import mlflow\n",
    "import mlflow.sklearn\n",
    "from sklearn.datasets import load_iris\n",
    "from sklearn.model_selection import train_test_split\n",
    "from sklearn.ensemble import RandomForestClassifier\n",
    "from sklearn.metrics import accuracy_score\n",
    "import pandas as pd\n",
    "\n",
    "def train_and_log_model(random_state=42, n_estimators=100):\n",
    "    \"\"\"\n",
    "    Trains a simple RandomForest model on Iris dataset,\n",
    "    logs parameters, metrics, and model to MLflow.\n",
    "    Returns: logged_run_id or None on failure\n",
    "    \"\"\"\n",
    "    try:\n",
    "        # 2. Set up MLflow experiment\n",
    "        mlflow.set_experiment(\"Iris_Classification\")\n",
    "\n",
    "        with mlflow.start_run() as run:\n",
    "            run_id = run.info.run_id\n",
    "\n",
    "            # 3. Load data\n",
    "            iris = load_iris()\n",
    "            X = pd.DataFrame(iris.data, columns=iris.feature_names)\n",
    "            y = pd.Series(iris.target)\n",
    "\n",
    "            # 4. Split data\n",
    "            X_train, X_test, y_train, y_test = train_test_split(\n",
    "                X, y, test_size=0.2, random_state=random_state\n",
    "            )\n",
    "\n",
    "            # 5. Train model\n",
    "            model = RandomForestClassifier(n_estimators=n_estimators, random_state=random_state)\n",
    "            model.fit(X_train, y_train)\n",
    "\n",
    "            # 6. Predict and evaluate\n",
    "            y_pred = model.predict(X_test)\n",
    "            accuracy = accuracy_score(y_test, y_pred)\n",
    "             # 7. Log parameters and metrics\n",
    "            mlflow.log_param(\"random_state\", random_state)\n",
    "            mlflow.log_param(\"n_estimators\", n_estimators)\n",
    "            mlflow.log_metric(\"accuracy\", accuracy)\n",
    "\n",
    "            # 8. Log the model itself\n",
    "            mlflow.sklearn.log_model(model, \"random_forest_model\")\n",
    "\n",
    "            print(f\"Run {run_id} logged with accuracy: {accuracy:.4f}\")\n",
    "            return run_id\n",
    "\n",
    "    except Exception as e:\n",
    "        print(f\"Error during training/logging: {e}\")\n",
    "        return None\n",
    "\n",
    "# ---- Unit Testing ----\n",
    "import unittest\n",
    "\n",
    "class TestMLflowMonitoring(unittest.TestCase):\n",
    "\n",
    "    def test_train_and_log_model(self):\n",
    "        run_id = train_and_log_model(random_state=0, n_estimators=10)\n",
    "        self.assertIsNotNone(run_id, \"MLflow run_id should not be None\")\n",
    "\n",
    "if __name__ == \"__main__\":\n",
    "    # Run example training + logging\n",
    "    print(\"Starting model training and logging to MLflow...\")\n",
    "    run_id = train_and_log_model()\n",
    "\n",
    "    # Instructions for user\n",
    "    print(\"\\nTo view MLflow UI, run the following command in your terminal:\\n\")\n",
    "    print(\"mlflow ui --port 5000\")\n",
    "    print(\"Then open http://localhost:5000 in your browser to view experiments.\\n\")\n",
    "\n",
    "    # Run unit tests\n",
    "    unittest.main(argv=['first-arg-is-ignored'], exit=False)\n"
   ]
  }
 ],
 "metadata": {
  "kernelspec": {
   "display_name": "Python 3",
   "language": "python",
   "name": "python3"
  },
  "language_info": {
   "codemirror_mode": {
    "name": "ipython",
    "version": 3
   },
   "file_extension": ".py",
   "mimetype": "text/x-python",
   "name": "python",
   "nbconvert_exporter": "python",
   "pygments_lexer": "ipython3",
   "version": "3.10.12"
  }
 },
 "nbformat": 4,
 "nbformat_minor": 2
}

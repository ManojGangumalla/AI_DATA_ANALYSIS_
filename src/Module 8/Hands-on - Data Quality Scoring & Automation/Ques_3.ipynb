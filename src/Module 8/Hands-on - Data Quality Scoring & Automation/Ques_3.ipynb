{
 "cells": [
  {
   "cell_type": "markdown",
   "metadata": {},
   "source": [
    "## Automate Data Quality Checks with Great Expectations\n",
    "**Introduction**: In this activity, you will learn how to automate data quality checks using the Great Expectations framework. This includes setting up expectations and generating validation reports.\n",
    "\n",
    "### Task 1: Setup and Initial Expectations\n",
    "\n",
    "1. Objective: Set up Great Expectations and create initial expectations for a dataset.\n",
    "2. Steps:\n",
    "    - Install Great Expectations using pip.\n",
    "    - Initialize a data context.\n",
    "    - Create basic expectations on a sample dataset.\n",
    "    - Eg., Implement a basic setup and expectation for column presence and type."
   ]
  },
  {
   "cell_type": "code",
   "execution_count": 9,
   "metadata": {},
   "outputs": [
    {
     "ename": "ModuleNotFoundError",
     "evalue": "No module named 'great_expectations.dataset'",
     "output_type": "error",
     "traceback": [
      "\u001b[0;31m---------------------------------------------------------------------------\u001b[0m",
      "\u001b[0;31mModuleNotFoundError\u001b[0m                       Traceback (most recent call last)",
      "Cell \u001b[0;32mIn[9], line 2\u001b[0m\n\u001b[1;32m      1\u001b[0m \u001b[38;5;28;01mimport\u001b[39;00m\u001b[38;5;250m \u001b[39m\u001b[38;5;21;01mgreat_expectations\u001b[39;00m\u001b[38;5;250m \u001b[39m\u001b[38;5;28;01mas\u001b[39;00m\u001b[38;5;250m \u001b[39m\u001b[38;5;21;01mge\u001b[39;00m\n\u001b[0;32m----> 2\u001b[0m \u001b[38;5;28;01mfrom\u001b[39;00m\u001b[38;5;250m \u001b[39m\u001b[38;5;21;01mgreat_expectations\u001b[39;00m\u001b[38;5;21;01m.\u001b[39;00m\u001b[38;5;21;01mdataset\u001b[39;00m\u001b[38;5;250m \u001b[39m\u001b[38;5;28;01mimport\u001b[39;00m PandasDataset\n\u001b[1;32m      3\u001b[0m \u001b[38;5;28;01mimport\u001b[39;00m\u001b[38;5;250m \u001b[39m\u001b[38;5;21;01mpandas\u001b[39;00m\u001b[38;5;250m \u001b[39m\u001b[38;5;28;01mas\u001b[39;00m\u001b[38;5;250m \u001b[39m\u001b[38;5;21;01mpd\u001b[39;00m\n\u001b[1;32m      4\u001b[0m \u001b[38;5;28;01mimport\u001b[39;00m\u001b[38;5;250m \u001b[39m\u001b[38;5;21;01mschedule\u001b[39;00m\n",
      "\u001b[0;31mModuleNotFoundError\u001b[0m: No module named 'great_expectations.dataset'"
     ]
    }
   ],
   "source": [
    "import great_expectations as ge\n",
    "from great_expectations.dataset import PandasDataset\n",
    "import pandas as pd\n",
    "import schedule\n",
    "import time\n",
    "import logging\n",
    "\n",
    "logging.basicConfig(level=logging.INFO, format='%(asctime)s - %(levelname)s - %(message)s')\n",
    "\n",
    "def initialize_data_context():\n",
    "    try:\n",
    "        context = ge.DataContext()\n",
    "        logging.info(\"Great Expectations context initialized.\")\n",
    "        return context\n",
    "    except Exception as e:\n",
    "        logging.error(f\"Failed to initialize GE context: {e}\")\n",
    "        return None\n",
    "\n",
    "def load_sample_data():\n",
    "    data = {\n",
    "        \"CustomerID\": [101, 102, 103, 102],\n",
    "        \"Age\": [25, 30, 17, 45],\n",
    "        \"Email\": [\"a@example.com\", \"b@example.com\", \"c@example.com\", \"invalid-email\"]\n",
    "    }\n",
    "    try:\n",
    "        df = pd.DataFrame(data)\n",
    "        logging.info(\"Sample data loaded.\")\n",
    "        return df\n",
    "    except Exception as e:\n",
    "        logging.error(f\"Failed to load data: {e}\")\n",
    "        return None\n",
    "\n",
    "def define_expectations(ge_df):\n",
    "    try:\n",
    "        ge_df.expect_column_to_exist(\"CustomerID\")\n",
    "        ge_df.expect_column_values_to_be_unique(\"CustomerID\")\n",
    "        ge_df.expect_column_to_exist(\"Age\")\n",
    "        ge_df.expect_column_values_to_be_between(\"Age\", min_value=18)\n",
    "        ge_df.expect_column_to_exist(\"Email\")\n",
    "        ge_df.expect_column_values_to_match_regex(\"Email\", r\".+@.+\\..+\")\n",
    "        logging.info(\"Expectations defined successfully.\")\n",
    "    except Exception as e:\n",
    "        logging.error(f\"Failed to define expectations: {e}\")\n",
    "\n",
    "def run_validation(ge_df):\n",
    "    try:\n",
    "        results = ge_df.validate()\n",
    "        logging.info(\"Validation completed.\")\n",
    "        return results\n",
    "    except Exception as e:\n",
    "        logging.error(f\"Validation failed: {e}\")\n",
    "        return None\n",
    "\n",
    "def scheduled_validation():\n",
    "    logging.info(\"Scheduled validation started.\")\n",
    "    df = load_sample_data()\n",
    "    if df is None:\n",
    "        logging.error(\"No data loaded, skipping validation.\")\n",
    "        return\n",
    "    ge_df = PandasDataset(df)\n",
    "    define_expectations(ge_df)\n",
    "    results = run_validation(ge_df)\n",
    "    if results:\n",
    "        logging.info(f\"Validation summary: {results['statistics']}\")\n",
    "    else:\n",
    "        logging.error(\"No validation results to report.\")\n",
    "\n",
    "if __name__ == \"__main__\":\n",
    "    context = initialize_data_context()\n",
    "    if context is None:\n",
    "        logging.error(\"Exiting due to failure initializing Great Expectations context.\")\n",
    "        exit(1)\n",
    "\n",
    "    df = load_sample_data()\n",
    "    if df is not None:\n",
    "        ge_df = PandasDataset(df)\n",
    "        define_expectations(ge_df)\n",
    "        results = run_validation(ge_df)\n",
    "        if results:\n",
    "            print(\"One-time Validation Results:\")\n",
    "            print(results)\n",
    "\n",
    "    schedule.every().day.at(\"09:00\").do(scheduled_validation)\n",
    "\n",
    "    logging.info(\"Scheduler started. Press Ctrl+C to exit.\")\n",
    "    while True:\n",
    "        schedule.run_pending()\n",
    "        time.sleep(60)\n"
   ]
  },
  {
   "cell_type": "markdown",
   "metadata": {},
   "source": [
    "### Task 2: Validate Datasets and Generate Reports\n",
    "\n",
    "1. Objective: Validate a dataset against defined expectations and generate a report.\n",
    "2. Steps:\n",
    "    - Execute the validation process on the dataset.\n",
    "    - Review the validation results and generate a report.\n",
    "    - Eg., Validate completeness and consistency expectations, and view the results.\n"
   ]
  },
  {
   "cell_type": "code",
   "execution_count": null,
   "metadata": {},
   "outputs": [
    {
     "ename": "AttributeError",
     "evalue": "module 'great_expectations' has no attribute 'from_pandas'",
     "output_type": "error",
     "traceback": [
      "\u001b[0;31m---------------------------------------------------------------------------\u001b[0m",
      "\u001b[0;31mAttributeError\u001b[0m                            Traceback (most recent call last)",
      "Cell \u001b[0;32mIn[2], line 14\u001b[0m\n\u001b[1;32m     11\u001b[0m df \u001b[38;5;241m=\u001b[39m pd\u001b[38;5;241m.\u001b[39mDataFrame(data)\n\u001b[1;32m     13\u001b[0m \u001b[38;5;66;03m# Convert to Great Expectations dataframe\u001b[39;00m\n\u001b[0;32m---> 14\u001b[0m ge_df \u001b[38;5;241m=\u001b[39m \u001b[43mge\u001b[49m\u001b[38;5;241;43m.\u001b[39;49m\u001b[43mfrom_pandas\u001b[49m(df)\n\u001b[1;32m     16\u001b[0m \u001b[38;5;66;03m# Define expectations\u001b[39;00m\n\u001b[1;32m     17\u001b[0m \u001b[38;5;66;03m# Completeness: no nulls in 'Name' and 'Age'\u001b[39;00m\n\u001b[1;32m     18\u001b[0m ge_df\u001b[38;5;241m.\u001b[39mexpect_column_values_to_not_be_null(\u001b[38;5;124m\"\u001b[39m\u001b[38;5;124mName\u001b[39m\u001b[38;5;124m\"\u001b[39m)\n",
      "\u001b[0;31mAttributeError\u001b[0m: module 'great_expectations' has no attribute 'from_pandas'"
     ]
    }
   ],
   "source": []
  },
  {
   "cell_type": "markdown",
   "metadata": {},
   "source": [
    "### Task 3: Advanced Expectations and Scheduling\n",
    "\n",
    "1. Objective: Create advanced expectations for conditional checks and automate the validation.\n",
    "2. Steps:\n",
    "    - Define advanced expectations based on complex conditions.\n",
    "    - Use scheduling tools to automate periodic checks.\n",
    "    - E.g., an expectation that customer IDs must be unique and schedule a daily check."
   ]
  },
  {
   "cell_type": "code",
   "execution_count": null,
   "metadata": {},
   "outputs": [
    {
     "name": "stdout",
     "output_type": "stream",
     "text": [
      "Scheduler started, press Ctrl+C to exit...\n"
     ]
    },
    {
     "ename": "KeyboardInterrupt",
     "evalue": "",
     "output_type": "error",
     "traceback": [
      "\u001b[0;31m---------------------------------------------------------------------------\u001b[0m",
      "\u001b[0;31mKeyboardInterrupt\u001b[0m                         Traceback (most recent call last)",
      "Cell \u001b[0;32mIn[4], line 23\u001b[0m\n\u001b[1;32m     21\u001b[0m \u001b[38;5;28;01mwhile\u001b[39;00m \u001b[38;5;28;01mTrue\u001b[39;00m:\n\u001b[1;32m     22\u001b[0m     schedule\u001b[38;5;241m.\u001b[39mrun_pending()\n\u001b[0;32m---> 23\u001b[0m     \u001b[43mtime\u001b[49m\u001b[38;5;241;43m.\u001b[39;49m\u001b[43msleep\u001b[49m\u001b[43m(\u001b[49m\u001b[38;5;241;43m60\u001b[39;49m\u001b[43m)\u001b[49m  \u001b[38;5;66;03m# wait 1 minute between checks\u001b[39;00m\n",
      "\u001b[0;31mKeyboardInterrupt\u001b[0m: "
     ]
    }
   ],
   "source": []
  }
 ],
 "metadata": {
  "kernelspec": {
   "display_name": "Python 3",
   "language": "python",
   "name": "python3"
  },
  "language_info": {
   "codemirror_mode": {
    "name": "ipython",
    "version": 3
   },
   "file_extension": ".py",
   "mimetype": "text/x-python",
   "name": "python",
   "nbconvert_exporter": "python",
   "pygments_lexer": "ipython3",
   "version": "3.10.12"
  }
 },
 "nbformat": 4,
 "nbformat_minor": 2
}

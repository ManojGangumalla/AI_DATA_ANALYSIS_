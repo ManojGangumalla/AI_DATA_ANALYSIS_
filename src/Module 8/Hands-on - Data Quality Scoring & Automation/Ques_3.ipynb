{
 "cells": [
  {
   "cell_type": "markdown",
   "metadata": {},
   "source": [
    "## Automate Data Quality Checks with Great Expectations\n",
    "**Introduction**: In this activity, you will learn how to automate data quality checks using the Great Expectations framework. This includes setting up expectations and generating validation reports.\n",
    "\n",
    "### Task 1: Setup and Initial Expectations\n",
    "\n",
    "1. Objective: Set up Great Expectations and create initial expectations for a dataset.\n",
    "2. Steps:\n",
    "    - Install Great Expectations using pip.\n",
    "    - Initialize a data context.\n",
    "    - Create basic expectations on a sample dataset.\n",
    "    - Eg., Implement a basic setup and expectation for column presence and type."
   ]
  },
  {
   "cell_type": "code",
   "execution_count": 1,
   "metadata": {},
   "outputs": [
    {
     "ename": "ImportError",
     "evalue": "cannot import name 'DataContext' from 'great_expectations.data_context' (/home/vscode/.local/lib/python3.10/site-packages/great_expectations/data_context/__init__.py)",
     "output_type": "error",
     "traceback": [
      "\u001b[0;31m---------------------------------------------------------------------------\u001b[0m",
      "\u001b[0;31mImportError\u001b[0m                               Traceback (most recent call last)",
      "Cell \u001b[0;32mIn[1], line 7\u001b[0m\n\u001b[1;32m      5\u001b[0m \u001b[38;5;28;01mimport\u001b[39;00m\u001b[38;5;250m \u001b[39m\u001b[38;5;21;01mgreat_expectations\u001b[39;00m\u001b[38;5;250m \u001b[39m\u001b[38;5;28;01mas\u001b[39;00m\u001b[38;5;250m \u001b[39m\u001b[38;5;21;01mge\u001b[39;00m\n\u001b[1;32m      6\u001b[0m \u001b[38;5;28;01mimport\u001b[39;00m\u001b[38;5;250m \u001b[39m\u001b[38;5;21;01mpandas\u001b[39;00m\u001b[38;5;250m \u001b[39m\u001b[38;5;28;01mas\u001b[39;00m\u001b[38;5;250m \u001b[39m\u001b[38;5;21;01mpd\u001b[39;00m\n\u001b[0;32m----> 7\u001b[0m \u001b[38;5;28;01mfrom\u001b[39;00m\u001b[38;5;250m \u001b[39m\u001b[38;5;21;01mgreat_expectations\u001b[39;00m\u001b[38;5;21;01m.\u001b[39;00m\u001b[38;5;21;01mdata_context\u001b[39;00m\u001b[38;5;250m \u001b[39m\u001b[38;5;28;01mimport\u001b[39;00m DataContext\n\u001b[1;32m      9\u001b[0m \u001b[38;5;66;03m# Step 2: Initialize Great Expectations Data Context (creates the folder structure)\u001b[39;00m\n\u001b[1;32m     10\u001b[0m context \u001b[38;5;241m=\u001b[39m DataContext\u001b[38;5;241m.\u001b[39mcreate(project_root_dir\u001b[38;5;241m=\u001b[39m\u001b[38;5;124m\"\u001b[39m\u001b[38;5;124mgreat_expectations\u001b[39m\u001b[38;5;124m\"\u001b[39m)\n",
      "\u001b[0;31mImportError\u001b[0m: cannot import name 'DataContext' from 'great_expectations.data_context' (/home/vscode/.local/lib/python3.10/site-packages/great_expectations/data_context/__init__.py)"
     ]
    }
   ],
   "source": [
    "# Write your code from here\n",
    "# Step 1: Install Great Expectations (run in terminal or notebook cell)\n",
    "# !pip install great_expectations\n",
    "\n",
    "import great_expectations as ge\n",
    "import pandas as pd\n",
    "from great_expectations.data_context import DataContext\n",
    "\n",
    "# Step 2: Initialize Great Expectations Data Context (creates the folder structure)\n",
    "context = DataContext.create(project_root_dir=\"great_expectations\")\n",
    "print(\"Great Expectations context created!\")\n",
    "\n",
    "# Step 3: Create sample pandas DataFrame\n",
    "data = {\n",
    "    \"Name\": [\"Alice\", \"Bob\", \"Charlie\"],\n",
    "    \"Age\": [25, 30, 35],\n",
    "    \"Email\": [\"alice@example.com\", \"bob@example.com\", \"charlie@example.com\"]\n",
    "}\n",
    "df = pd.DataFrame(data)\n",
    "\n",
    "# Step 4: Convert pandas DataFrame to Great Expectations dataset\n",
    "ge_df = ge.from_pandas(df)\n",
    "\n",
    "# Step 5: Define expectations\n",
    "ge_df.expect_column_to_exist(\"Name\")\n",
    "ge_df.expect_column_to_exist(\"Age\")\n",
    "ge_df.expect_column_values_to_be_of_type(\"Age\", \"int64\")\n",
    "ge_df.expect_column_to_exist(\"Email\")\n",
    "ge_df.expect_column_values_to_match_regex(\"Email\", r\".+@.+\\..+\")\n",
    "\n",
    "# Step 6: Run validation and print results\n",
    "results = ge_df.validate()\n",
    "print(results)\n"
   ]
  },
  {
   "cell_type": "markdown",
   "metadata": {},
   "source": [
    "### Task 2: Validate Datasets and Generate Reports\n",
    "\n",
    "1. Objective: Validate a dataset against defined expectations and generate a report.\n",
    "2. Steps:\n",
    "    - Execute the validation process on the dataset.\n",
    "    - Review the validation results and generate a report.\n",
    "    - Eg., Validate completeness and consistency expectations, and view the results.\n"
   ]
  },
  {
   "cell_type": "code",
   "execution_count": 2,
   "metadata": {},
   "outputs": [
    {
     "ename": "AttributeError",
     "evalue": "module 'great_expectations' has no attribute 'from_pandas'",
     "output_type": "error",
     "traceback": [
      "\u001b[0;31m---------------------------------------------------------------------------\u001b[0m",
      "\u001b[0;31mAttributeError\u001b[0m                            Traceback (most recent call last)",
      "Cell \u001b[0;32mIn[2], line 14\u001b[0m\n\u001b[1;32m     11\u001b[0m df \u001b[38;5;241m=\u001b[39m pd\u001b[38;5;241m.\u001b[39mDataFrame(data)\n\u001b[1;32m     13\u001b[0m \u001b[38;5;66;03m# Convert to Great Expectations dataframe\u001b[39;00m\n\u001b[0;32m---> 14\u001b[0m ge_df \u001b[38;5;241m=\u001b[39m \u001b[43mge\u001b[49m\u001b[38;5;241;43m.\u001b[39;49m\u001b[43mfrom_pandas\u001b[49m(df)\n\u001b[1;32m     16\u001b[0m \u001b[38;5;66;03m# Define expectations\u001b[39;00m\n\u001b[1;32m     17\u001b[0m \u001b[38;5;66;03m# Completeness: no nulls in 'Name' and 'Age'\u001b[39;00m\n\u001b[1;32m     18\u001b[0m ge_df\u001b[38;5;241m.\u001b[39mexpect_column_values_to_not_be_null(\u001b[38;5;124m\"\u001b[39m\u001b[38;5;124mName\u001b[39m\u001b[38;5;124m\"\u001b[39m)\n",
      "\u001b[0;31mAttributeError\u001b[0m: module 'great_expectations' has no attribute 'from_pandas'"
     ]
    }
   ],
   "source": [
    "# Write your code from here\n",
    "import great_expectations as ge\n",
    "import pandas as pd\n",
    "\n",
    "# Sample data\n",
    "data = {\n",
    "    \"Name\": [\"Alice\", \"Bob\", None, \"David\"],\n",
    "    \"Age\": [25, 30, 35, None],\n",
    "    \"Email\": [\"alice@example.com\", \"bob@example\", \"charlie@example.com\", None]\n",
    "}\n",
    "df = pd.DataFrame(data)\n",
    "\n",
    "# Convert to Great Expectations dataframe\n",
    "ge_df = ge.from_pandas(df)\n",
    "\n",
    "# Define expectations\n",
    "# Completeness: no nulls in 'Name' and 'Age'\n",
    "ge_df.expect_column_values_to_not_be_null(\"Name\")\n",
    "ge_df.expect_column_values_to_not_be_null(\"Age\")\n",
    "\n",
    "# Consistency: Email format\n",
    "ge_df.expect_column_values_to_match_regex(\"Email\", r\".+@.+\\..+\")\n",
    "\n",
    "# Run validation\n",
    "results = ge_df.validate()\n",
    "\n",
    "# Print validation results summary\n",
    "print(\"Validation Results Summary:\")\n",
    "print(results[\"statistics\"])\n",
    "\n",
    "# Optionally save full results to JSON file\n",
    "import json\n",
    "with open(\"validation_report.json\", \"w\") as f:\n",
    "    json.dump(results, f, indent=4)\n",
    "\n",
    "print(\"\\nValidation report saved to 'validation_report.json'\")\n"
   ]
  },
  {
   "cell_type": "markdown",
   "metadata": {},
   "source": [
    "### Task 3: Advanced Expectations and Scheduling\n",
    "\n",
    "1. Objective: Create advanced expectations for conditional checks and automate the validation.\n",
    "2. Steps:\n",
    "    - Define advanced expectations based on complex conditions.\n",
    "    - Use scheduling tools to automate periodic checks.\n",
    "    - E.g., an expectation that customer IDs must be unique and schedule a daily check."
   ]
  },
  {
   "cell_type": "code",
   "execution_count": 4,
   "metadata": {},
   "outputs": [
    {
     "name": "stdout",
     "output_type": "stream",
     "text": [
      "Scheduler started, press Ctrl+C to exit...\n"
     ]
    },
    {
     "ename": "KeyboardInterrupt",
     "evalue": "",
     "output_type": "error",
     "traceback": [
      "\u001b[0;31m---------------------------------------------------------------------------\u001b[0m",
      "\u001b[0;31mKeyboardInterrupt\u001b[0m                         Traceback (most recent call last)",
      "Cell \u001b[0;32mIn[4], line 23\u001b[0m\n\u001b[1;32m     21\u001b[0m \u001b[38;5;28;01mwhile\u001b[39;00m \u001b[38;5;28;01mTrue\u001b[39;00m:\n\u001b[1;32m     22\u001b[0m     schedule\u001b[38;5;241m.\u001b[39mrun_pending()\n\u001b[0;32m---> 23\u001b[0m     \u001b[43mtime\u001b[49m\u001b[38;5;241;43m.\u001b[39;49m\u001b[43msleep\u001b[49m\u001b[43m(\u001b[49m\u001b[38;5;241;43m60\u001b[39;49m\u001b[43m)\u001b[49m  \u001b[38;5;66;03m# wait 1 minute between checks\u001b[39;00m\n",
      "\u001b[0;31mKeyboardInterrupt\u001b[0m: "
     ]
    }
   ],
   "source": [
    "import schedule\n",
    "import time\n",
    "\n",
    "def run_validation():\n",
    "    # Recreate or load your data here or from CSV\n",
    "    # (using the same df and ge_df as above for demonstration)\n",
    "    ge_df = ge.from_pandas(df)\n",
    "\n",
    "    # Define expectations again\n",
    "    ge_df.expect_column_values_to_be_unique(\"CustomerID\")\n",
    "    ge_df.expect_column_values_to_be_between(\"Age\", min_value=18)\n",
    "\n",
    "    results = ge_df.validate()\n",
    "    print(\"Scheduled Validation Run:\")\n",
    "    print(results[\"statistics\"])\n",
    "\n",
    "# Schedule the job to run daily at 9:00 AM\n",
    "schedule.every().day.at(\"09:00\").do(run_validation)\n",
    "\n",
    "print(\"Scheduler started, press Ctrl+C to exit...\")\n",
    "while True:\n",
    "    schedule.run_pending()\n",
    "    time.sleep(60)  # wait 1 minute between checks\n"
   ]
  }
 ],
 "metadata": {
  "kernelspec": {
   "display_name": "Python 3",
   "language": "python",
   "name": "python3"
  },
  "language_info": {
   "codemirror_mode": {
    "name": "ipython",
    "version": 3
   },
   "file_extension": ".py",
   "mimetype": "text/x-python",
   "name": "python",
   "nbconvert_exporter": "python",
   "pygments_lexer": "ipython3",
   "version": "3.10.12"
  }
 },
 "nbformat": 4,
 "nbformat_minor": 2
}

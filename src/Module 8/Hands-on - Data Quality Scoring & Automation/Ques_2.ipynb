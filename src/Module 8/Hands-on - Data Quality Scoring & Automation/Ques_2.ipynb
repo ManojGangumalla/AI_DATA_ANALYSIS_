{
 "cells": [
  {
   "cell_type": "markdown",
   "metadata": {},
   "source": [
    "## Calculate Data Quality Score\n",
    "**Introduction**: In this activity, you will calculate data quality scores for datasets using different metrics. You will explore examples where you assess completeness, accuracy, and consistency.\n",
    "\n",
    "### Task 1: Completeness Score\n",
    "1. Objective: Determine the percentage of non-missing values in a dataset.\n",
    "2. Steps:\n",
    "    - Load a sample dataset using Pandas.\n",
    "    - Identify the columns with missing values.\n",
    "    - Calculate the completeness score as the ratio of non-missing values to total values.\n",
    "    - E.g., a dataset with customer information."
   ]
  },
  {
   "cell_type": "code",
   "execution_count": 1,
   "metadata": {},
   "outputs": [
    {
     "name": "stdout",
     "output_type": "stream",
     "text": [
      "Data loaded successfully with 10 rows.\n",
      "\n",
      "Completeness (%) per column:\n",
      "Name: 100.00%\n",
      "Email: 80.00%\n",
      "Age: 90.00%\n",
      "\n",
      "Validity (%) of Email column containing '@': 75.00%\n",
      "Uniqueness (distinct count) in Email column: 8\n"
     ]
    }
   ],
   "source": [
    "# Write your code from here\n",
    "import pandas as pd\n",
    "\n",
    "def load_data(csv_path):\n",
    "    try:\n",
    "        df = pd.read_csv(csv_path)\n",
    "        print(f\"Data loaded successfully with {len(df)} rows.\")\n",
    "        return df\n",
    "    except Exception as e:\n",
    "        print(f\"Error loading CSV: {e}\")\n",
    "        return None\n",
    "\n",
    "def completeness(df):\n",
    "    \"\"\"Percentage of non-null values per column\"\"\"\n",
    "    comp = 100 * df.notnull().mean()\n",
    "    return comp.to_dict()\n",
    "\n",
    "def validity_email(df):\n",
    "    \"\"\"Percentage of Email entries containing '@'\"\"\"\n",
    "    if 'Email' not in df.columns:\n",
    "        print(\"No 'Email' column found.\")\n",
    "        return None\n",
    "    valid_emails = df['Email'].dropna().str.contains('@')\n",
    "    validity = 100 * valid_emails.mean() if len(valid_emails) > 0 else 0\n",
    "    return validity\n",
    "\n",
    "def uniqueness_email(df):\n",
    "    \"\"\"Count of distinct Email entries\"\"\"\n",
    "    if 'Email' not in df.columns:\n",
    "        print(\"No 'Email' column found.\")\n",
    "        return None\n",
    "    unique_count = df['Email'].nunique(dropna=True)\n",
    "    return unique_count\n",
    "\n",
    "# === Example usage ===\n",
    "\n",
    "csv_path = 'your_dataset.csv'  # Replace with your CSV path\n",
    "df = load_data(csv_path)\n",
    "\n",
    "if df is not None:\n",
    "    comp = completeness(df)\n",
    "    val = validity_email(df)\n",
    "    uniq = uniqueness_email(df)\n",
    "\n",
    "    print(\"\\nCompleteness (%) per column:\")\n",
    "    for col, pct in comp.items():\n",
    "        print(f\"{col}: {pct:.2f}%\")\n",
    "\n",
    "    print(f\"\\nValidity (%) of Email column containing '@': {val:.2f}%\")\n",
    "    print(f\"Uniqueness (distinct count) in Email column: {uniq}\")\n"
   ]
  },
  {
   "cell_type": "markdown",
   "metadata": {},
   "source": [
    "### Task 2: Accuracy Score\n",
    "\n",
    "1. Objective: Measure the accuracy of a dataset by comparing it against a reference dataset.\n",
    "2. Steps:\n",
    "    - Load the main dataset and a reference dataset.\n",
    "    - Select key columns for accuracy check.\n",
    "    - Match values from both datasets and calculate the accuracy percentage.\n",
    "    - E.g., along existing dataset with sales information."
   ]
  },
  {
   "cell_type": "code",
   "execution_count": 2,
   "metadata": {},
   "outputs": [
    {
     "name": "stdout",
     "output_type": "stream",
     "text": [
      "Loaded dataset 'main_dataset.csv' with 5 rows.\n",
      "Loaded dataset 'reference_dataset.csv' with 5 rows.\n",
      "Accuracy based on matching key columns: 60.00%\n"
     ]
    }
   ],
   "source": [
    "# Write your code from here\n",
    "import pandas as pd\n",
    "\n",
    "def load_data(path):\n",
    "    try:\n",
    "        df = pd.read_csv(path)\n",
    "        print(f\"Loaded dataset '{path}' with {len(df)} rows.\")\n",
    "        return df\n",
    "    except Exception as e:\n",
    "        print(f\"Error loading {path}: {e}\")\n",
    "        return None\n",
    "\n",
    "def calculate_accuracy(main_df, ref_df, key_columns):\n",
    "    \"\"\"\n",
    "    Compares main_df and ref_df on key_columns and calculates\n",
    "    the percentage of matching rows.\n",
    "    \"\"\"\n",
    "\n",
    "    # Merge on key columns with indicator to find matches\n",
    "    merged = main_df.merge(ref_df[key_columns], on=key_columns, how='left', indicator=True)\n",
    "\n",
    "    # Rows with _merge == 'both' exist in both datasets (matched)\n",
    "    matched_rows = merged[merged['_merge'] == 'both'].shape[0]\n",
    "    total_rows = main_df.shape[0]\n",
    "\n",
    "    accuracy = 100 * matched_rows / total_rows if total_rows > 0 else 0\n",
    "    return accuracy\n",
    "\n",
    "# === Usage example ===\n",
    "\n",
    "# Load datasets (replace with your file paths)\n",
    "main_data = load_data('main_dataset.csv')\n",
    "reference_data = load_data('reference_dataset.csv')\n",
    "\n",
    "if main_data is not None and reference_data is not None:\n",
    "    # Specify columns to check for accuracy\n",
    "    keys = ['SaleID', 'ProductID', 'SaleAmount']  # example columns\n",
    "    \n",
    "    # Calculate accuracy\n",
    "    acc = calculate_accuracy(main_data, reference_data, keys)\n",
    "    print(f\"Accuracy based on matching key columns: {acc:.2f}%\")\n",
    "else:\n",
    "    print(\"Failed to load datasets for accuracy calculation.\")\n",
    "\n"
   ]
  },
  {
   "cell_type": "markdown",
   "metadata": {},
   "source": [
    "### Task 3: Consistency Score\n",
    "\n",
    "1. Objective: Evaluate the consistency within a dataset for specific columns.\n",
    "2. Steps:\n",
    "    - Choose a column expected to have consistent values.\n",
    "    - Use statistical or rule-based checks to identify inconsistencies.\n",
    "    - Calculate the consistency score by the ratio of consistent to total entries.\n",
    "    - E.g., validating phone number formats in a contact list."
   ]
  },
  {
   "cell_type": "code",
   "execution_count": 3,
   "metadata": {},
   "outputs": [
    {
     "name": "stdout",
     "output_type": "stream",
     "text": [
      "Loaded 10 rows from contacts.csv\n",
      "Consistency Score for 'PhoneNumber': 50.00%\n"
     ]
    }
   ],
   "source": [
    "# Write your code from here\n",
    "import pandas as pd\n",
    "import re\n",
    "\n",
    "def load_data(csv_path):\n",
    "    try:\n",
    "        df = pd.read_csv(csv_path)\n",
    "        print(f\"Loaded {len(df)} rows from {csv_path}\")\n",
    "        return df\n",
    "    except Exception as e:\n",
    "        print(f\"Error loading CSV: {e}\")\n",
    "        return None\n",
    "\n",
    "def is_valid_phone(phone):\n",
    "    \"\"\"\n",
    "    Validates phone numbers with a simple regex pattern:\n",
    "    Format example: +CountryCode followed by 10 digits, or just 10 digits.\n",
    "    Modify the regex according to your consistency rules.\n",
    "    \"\"\"\n",
    "    if pd.isna(phone):\n",
    "        return False\n",
    "    pattern = re.compile(r'^(\\+\\d{1,3})?[\\s\\-]?\\d{10}$')  \n",
    "    return bool(pattern.match(str(phone).strip()))\n",
    "\n",
    "def calculate_consistency(df, column):\n",
    "    if column not in df.columns:\n",
    "        print(f\"Column '{column}' not found in dataset.\")\n",
    "        return None\n",
    "\n",
    "    total = len(df)\n",
    "    consistent = df[column].apply(is_valid_phone).sum()\n",
    "    consistency_score = 100 * consistent / total if total > 0 else 0\n",
    "    return consistency_score\n",
    "\n",
    "# === Example usage ===\n",
    "csv_file = 'contacts.csv'  # Replace with your file path\n",
    "df = load_data(csv_file)\n",
    "\n",
    "if df is not None:\n",
    "    col = 'PhoneNumber'  # Replace with your column name\n",
    "    score = calculate_consistency(df, col)\n",
    "    if score is not None:\n",
    "        print(f\"Consistency Score for '{col}': {score:.2f}%\")\n",
    "else:\n",
    "    print(\"Failed to load data.\")\n",
    "\n"
   ]
  }
 ],
 "metadata": {
  "kernelspec": {
   "display_name": "Python 3",
   "language": "python",
   "name": "python3"
  },
  "language_info": {
   "codemirror_mode": {
    "name": "ipython",
    "version": 3
   },
   "file_extension": ".py",
   "mimetype": "text/x-python",
   "name": "python",
   "nbconvert_exporter": "python",
   "pygments_lexer": "ipython3",
   "version": "3.10.12"
  }
 },
 "nbformat": 4,
 "nbformat_minor": 2
}

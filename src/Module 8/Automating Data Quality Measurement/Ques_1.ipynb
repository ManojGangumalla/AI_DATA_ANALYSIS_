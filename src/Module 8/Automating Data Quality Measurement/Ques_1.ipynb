{
 "cells": [
  {
   "cell_type": "markdown",
   "metadata": {},
   "source": [
    "### Task 1: Basic Data Profiling of a CSV File\n",
    "**Description**: Load a CSV file and generate a Pandas-Profiling report.\n",
    "\n",
    "**Steps**:\n",
    "1. Load a CSV File: Make sure you have a CSV file (e.g., data.csv ). Load it using pandas.\n",
    "2. Generate a Profile Report."
   ]
  },
  {
   "cell_type": "code",
   "execution_count": 2,
   "metadata": {},
   "outputs": [
    {
     "name": "stderr",
     "output_type": "stream",
     "text": [
      "100%|██████████| 4/4 [00:00<00:00, 339.07it/s]<00:00, 61.54it/s, Describe variable: email]\n",
      "Summarize dataset: 100%|██████████| 15/15 [00:00<00:00, 32.91it/s, Completed]                \n",
      "Generate report structure: 100%|██████████| 1/1 [00:01<00:00,  1.05s/it]\n",
      "Render HTML: 100%|██████████| 1/1 [00:00<00:00,  3.51it/s]\n",
      "Export report to file: 100%|██████████| 1/1 [00:00<00:00, 832.04it/s]"
     ]
    },
    {
     "name": "stdout",
     "output_type": "stream",
     "text": [
      "Profiling report generated successfully: data_profile_report.html\n"
     ]
    },
    {
     "name": "stderr",
     "output_type": "stream",
     "text": [
      "\n"
     ]
    }
   ],
   "source": [
    "# Write your code from here\n",
    "import pandas as pd\n",
    "from ydata_profiling import ProfileReport  # Use this for pandas-profiling >=3.x\n",
    "\n",
    "# Step 1: Load the CSV file\n",
    "file_path = \"data.csv\"  # Replace with your actual CSV file path\n",
    "df = pd.read_csv(file_path)\n",
    "\n",
    "# Step 2: Generate a profile report\n",
    "profile = ProfileReport(df, title=\"Data Profiling Report\", explorative=True)\n",
    "\n",
    "# Step 3: Save the report to an HTML file\n",
    "profile.to_file(\"data_profile_report.html\")\n",
    "\n",
    "print(\"Profiling report generated successfully: data_profile_report.html\")\n"
   ]
  },
  {
   "cell_type": "markdown",
   "metadata": {},
   "source": [
    "### Task 2: Understanding Missing Values with Pandas-Profiling\n",
    "\n",
    "**Description**: Identify missing values in your dataset using pandas-profiling.\n",
    "\n",
    "**Steps**: \n",
    "1. Generate a Profile Report to Analyze Missing Values\n"
   ]
  },
  {
   "cell_type": "code",
   "execution_count": 3,
   "metadata": {},
   "outputs": [
    {
     "name": "stderr",
     "output_type": "stream",
     "text": [
      "100%|██████████| 4/4 [00:00<00:00, 191.19it/s]<00:00, 74.01it/s, Describe variable: email]\n",
      "Summarize dataset: 100%|██████████| 15/15 [00:00<00:00, 40.35it/s, Completed]                \n",
      "Generate report structure: 100%|██████████| 1/1 [00:01<00:00,  1.08s/it]\n",
      "Render HTML: 100%|██████████| 1/1 [00:00<00:00,  7.03it/s]\n",
      "Export report to file: 100%|██████████| 1/1 [00:00<00:00, 668.52it/s]"
     ]
    },
    {
     "name": "stdout",
     "output_type": "stream",
     "text": [
      "Missing values report generated successfully: missing_values_report.html\n"
     ]
    },
    {
     "name": "stderr",
     "output_type": "stream",
     "text": [
      "\n"
     ]
    }
   ],
   "source": [
    "# Write your code from here\n",
    "import pandas as pd\n",
    "from ydata_profiling import ProfileReport  # formerly pandas_profiling\n",
    "\n",
    "# Step 1: Load your dataset\n",
    "df = pd.read_csv(\"data.csv\")  # Replace with your CSV file path\n",
    "\n",
    "# Step 2: Generate a profile report\n",
    "profile = ProfileReport(\n",
    "    df,\n",
    "    title=\"Missing Values Report\",\n",
    "    explorative=True,\n",
    "    missing_diagrams={\"bar\": True, \"matrix\": True, \"heatmap\": True},  # Emphasize missing values\n",
    ")\n",
    "\n",
    "# Step 3: Save the report to an HTML file\n",
    "profile.to_file(\"missing_values_report.html\")\n",
    "\n",
    "print(\"Missing values report generated successfully: missing_values_report.html\")\n"
   ]
  },
  {
   "cell_type": "markdown",
   "metadata": {},
   "source": [
    "### Task 3: Analyze Data Types Using Pandas-Profiling\n",
    "**Description**: Use Pandas-Profiling to analyze and check data types of your dataset."
   ]
  },
  {
   "cell_type": "code",
   "execution_count": 4,
   "metadata": {},
   "outputs": [
    {
     "name": "stderr",
     "output_type": "stream",
     "text": [
      "100%|██████████| 4/4 [00:00<00:00, 71.69it/s]0<00:00, 38.22it/s, Describe variable: email]\n",
      "Summarize dataset: 100%|██████████| 15/15 [00:00<00:00, 38.58it/s, Completed]                \n",
      "Generate report structure: 100%|██████████| 1/1 [00:01<00:00,  1.02s/it]\n",
      "Render HTML: 100%|██████████| 1/1 [00:00<00:00,  7.35it/s]\n",
      "Export report to file: 100%|██████████| 1/1 [00:00<00:00, 689.40it/s]"
     ]
    },
    {
     "name": "stdout",
     "output_type": "stream",
     "text": [
      "Data types analysis report generated: data_types_report.html\n"
     ]
    },
    {
     "name": "stderr",
     "output_type": "stream",
     "text": [
      "\n"
     ]
    }
   ],
   "source": [
    "# Write your code from here\n",
    "import pandas as pd\n",
    "from ydata_profiling import ProfileReport  # Use 'pandas_profiling' if using an older version\n",
    "\n",
    "# Step 1: Load your dataset\n",
    "df = pd.read_csv(\"data.csv\")  # Replace with your actual file path\n",
    "\n",
    "# Step 2: Generate the profiling report\n",
    "profile = ProfileReport(\n",
    "    df,\n",
    "    title=\"Data Types Analysis Report\",\n",
    "    explorative=True\n",
    ")\n",
    "\n",
    "# Step 3: Save the report to an HTML file\n",
    "profile.to_file(\"data_types_report.html\")\n",
    "\n",
    "print(\"Data types analysis report generated: data_types_report.html\")\n"
   ]
  },
  {
   "cell_type": "markdown",
   "metadata": {},
   "source": [
    "### Task 4: Detect Unique Values and Duplicates\n",
    "**Description**: Use Pandas-Profiling to detect unique values and duplicates in your dataset."
   ]
  },
  {
   "cell_type": "code",
   "execution_count": 5,
   "metadata": {},
   "outputs": [
    {
     "name": "stderr",
     "output_type": "stream",
     "text": [
      "100%|██████████| 4/4 [00:00<00:00, 127.36it/s]<00:00, 58.15it/s, Describe variable: email]\n",
      "Summarize dataset: 100%|██████████| 15/15 [00:00<00:00, 28.93it/s, Completed]                \n",
      "Generate report structure: 100%|██████████| 1/1 [00:00<00:00,  1.05it/s]\n",
      "Render HTML: 100%|██████████| 1/1 [00:00<00:00,  7.24it/s]\n",
      "Export report to file: 100%|██████████| 1/1 [00:00<00:00, 648.97it/s]"
     ]
    },
    {
     "name": "stdout",
     "output_type": "stream",
     "text": [
      "Report generated: unique_duplicates_report.html\n"
     ]
    },
    {
     "name": "stderr",
     "output_type": "stream",
     "text": [
      "\n"
     ]
    }
   ],
   "source": [
    "# Write your code from here\n",
    "import pandas as pd\n",
    "from ydata_profiling import ProfileReport  # or 'pandas_profiling' for older versions\n",
    "\n",
    "# Step 1: Load the dataset\n",
    "df = pd.read_csv(\"data.csv\")  # Replace with your file\n",
    "\n",
    "# Step 2: Generate the profile report\n",
    "profile = ProfileReport(\n",
    "    df,\n",
    "    title=\"Unique Values & Duplicates Report\",\n",
    "    explorative=True\n",
    ")\n",
    "\n",
    "# Step 3: Save the report as HTML\n",
    "profile.to_file(\"unique_duplicates_report.html\")\n",
    "\n",
    "print(\"Report generated: unique_duplicates_report.html\")\n"
   ]
  }
 ],
 "metadata": {
  "kernelspec": {
   "display_name": "Python 3",
   "language": "python",
   "name": "python3"
  },
  "language_info": {
   "codemirror_mode": {
    "name": "ipython",
    "version": 3
   },
   "file_extension": ".py",
   "mimetype": "text/x-python",
   "name": "python",
   "nbconvert_exporter": "python",
   "pygments_lexer": "ipython3",
   "version": "3.10.12"
  }
 },
 "nbformat": 4,
 "nbformat_minor": 2
}

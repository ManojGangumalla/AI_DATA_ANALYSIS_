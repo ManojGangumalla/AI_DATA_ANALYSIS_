{
 "cells": [
  {
   "cell_type": "markdown",
   "metadata": {},
   "source": [
    "### Task 1: Validate Data with a Custom Expectation in Great Expectations\n",
    "**Description**: Create a custom expectation and validate data with Great Expectations.\n",
    "\n",
    "**Load a sample DataFrame**\n",
    "\n",
    "data = {\n",
    "'age': [25, 30, 35, 40, 45],\n",
    "'income': [50000, 60000, 75000, None, 100000]\n",
    "}"
   ]
  },
  {
   "cell_type": "code",
   "execution_count": 5,
   "metadata": {},
   "outputs": [
    {
     "ename": "ModuleNotFoundError",
     "evalue": "No module named 'great_expectations.core.expectation_configuration'",
     "output_type": "error",
     "traceback": [
      "\u001b[0;31m---------------------------------------------------------------------------\u001b[0m",
      "\u001b[0;31mModuleNotFoundError\u001b[0m                       Traceback (most recent call last)",
      "Cell \u001b[0;32mIn[5], line 2\u001b[0m\n\u001b[1;32m      1\u001b[0m \u001b[38;5;28;01mimport\u001b[39;00m\u001b[38;5;250m \u001b[39m\u001b[38;5;21;01mpandas\u001b[39;00m\u001b[38;5;250m \u001b[39m\u001b[38;5;28;01mas\u001b[39;00m\u001b[38;5;250m \u001b[39m\u001b[38;5;21;01mpd\u001b[39;00m\n\u001b[0;32m----> 2\u001b[0m \u001b[38;5;28;01mfrom\u001b[39;00m\u001b[38;5;250m \u001b[39m\u001b[38;5;21;01mgreat_expectations\u001b[39;00m\u001b[38;5;21;01m.\u001b[39;00m\u001b[38;5;21;01mcore\u001b[39;00m\u001b[38;5;21;01m.\u001b[39;00m\u001b[38;5;21;01mexpectation_configuration\u001b[39;00m\u001b[38;5;250m \u001b[39m\u001b[38;5;28;01mimport\u001b[39;00m ExpectationConfiguration\n\u001b[1;32m      3\u001b[0m \u001b[38;5;28;01mfrom\u001b[39;00m\u001b[38;5;250m \u001b[39m\u001b[38;5;21;01mgreat_expectations\u001b[39;00m\u001b[38;5;21;01m.\u001b[39;00m\u001b[38;5;21;01mexpectations\u001b[39;00m\u001b[38;5;21;01m.\u001b[39;00m\u001b[38;5;21;01mexpectation\u001b[39;00m\u001b[38;5;250m \u001b[39m\u001b[38;5;28;01mimport\u001b[39;00m ColumnMapExpectation\n\u001b[1;32m      4\u001b[0m \u001b[38;5;28;01mfrom\u001b[39;00m\u001b[38;5;250m \u001b[39m\u001b[38;5;21;01mgreat_expectations\u001b[39;00m\u001b[38;5;21;01m.\u001b[39;00m\u001b[38;5;21;01mexecution_engine\u001b[39;00m\u001b[38;5;250m \u001b[39m\u001b[38;5;28;01mimport\u001b[39;00m PandasExecutionEngine\n",
      "\u001b[0;31mModuleNotFoundError\u001b[0m: No module named 'great_expectations.core.expectation_configuration'"
     ]
    }
   ],
   "source": [
    "import pandas as pd\n",
    "from great_expectations.core.expectation_configuration import ExpectationConfiguration\n",
    "from great_expectations.expectations.expectation import ColumnMapExpectation\n",
    "from great_expectations.execution_engine import PandasExecutionEngine\n",
    "from great_expectations.expectations.metrics import ColumnMapMetricProvider, column_condition_partial\n",
    "from great_expectations.validator.validator import Validator\n",
    "from great_expectations.core.batch import Batch, BatchRequest, RuntimeBatchRequest\n",
    "from great_expectations.data_context import BaseDataContext\n",
    "\n",
    "# Step 1: Create DataFrame\n",
    "data = {\n",
    "    'age': [25, 30, 35, 40, 45],\n",
    "    'income': [50000, 60000, 75000, None, 100000]\n",
    "}\n",
    "df = pd.DataFrame(data)\n",
    "\n",
    "# Step 2: Define custom metric\n",
    "class ColumnValuesNonNullAndGreaterThan(ColumnMapMetricProvider):\n",
    "    condition_metric_name = \"column_values.non_null_and_greater_than\"\n",
    "    condition_value_keys = (\"value\",)\n",
    "\n",
    "    @column_condition_partial(engine=PandasExecutionEngine)\n",
    "    def _pandas(cls, column, value, **kwargs):\n",
    "        return column.notnull() & (column > value)\n",
    "\n",
    "# Step 3: Define custom expectation\n",
    "class ExpectColumnValuesToBeNonNullAndGreaterThan(ColumnMapExpectation):\n",
    "    map_metric = \"column_values.non_null_and_greater_than\"\n",
    "    success_keys = (\"value\",)\n",
    "    default_kwarg_values = {\n",
    "        \"value\": 0,\n",
    "        \"mostly\": 1.0\n",
    "    }\n",
    "\n",
    "    def validate_configuration(self, configuration: ExpectationConfiguration):\n",
    "        assert \"value\" in configuration.kwargs, \"'value' is required\"\n",
    "        super().validate_configuration(configuration)\n",
    "        return True\n",
    "\n",
    "# Step 4: Set up Great Expectations validator manually\n",
    "context = BaseDataContext()\n",
    "\n",
    "# Create RuntimeBatchRequest\n",
    "batch_request = RuntimeBatchRequest(\n",
    "    datasource_name=\"my_datasource\",\n",
    "    data_connector_name=\"my_data_connector\",\n",
    "    data_asset_name=\"my_asset\",\n",
    "    runtime_parameters={\"batch_data\": df},\n",
    "    batch_identifiers={\"default_identifier_name\": \"default_id\"},\n",
    ")\n",
    "\n",
    "# Temporarily add datasource and data connector\n",
    "context.add_datasource(\n",
    "    name=\"my_datasource\",\n",
    "    class_name=\"Datasource\",\n",
    "    execution_engine={\"class_name\": \"PandasExecutionEngine\"},\n",
    "    data_connectors={\n",
    "        \"my_data_connector\": {\n",
    "            \"class_name\": \"RuntimeDataConnector\",\n",
    "            \"batch_identifiers\": [\"default_identifier_name\"],\n",
    "        }\n",
    "    },\n",
    ")\n",
    "\n",
    "# Create expectation suite\n",
    "suite_name = \"custom_suite\"\n",
    "context.create_expectation_suite(suite_name=suite_name, overwrite_existing=True)\n",
    "\n",
    "# Create validator\n",
    "validator = context.get_validator(batch_request=batch_request, expectation_suite_name=suite_name)\n",
    "\n",
    "# Register custom expectation class with the validator's execution engine\n",
    "validator.execution_engine.register_metric(ColumnValuesNonNullAndGreaterThan)\n",
    "validator.register_expectation(ExpectColumnValuesToBeNonNullAndGreaterThan)\n",
    "\n",
    "# Step 5: Apply custom expectation\n",
    "result = validator.expect_column_values_to_be_non_null_and_greater_than(\"income\", value=30000)\n",
    "\n",
    "# Step 6: Print result\n",
    "print(result)\n"
   ]
  },
  {
   "cell_type": "markdown",
   "metadata": {},
   "source": [
    "### Task 2: Implement a Basic Alert System for Data Quality Drops\n",
    "**Description**: Set up a basic alert system that triggers when data quality drops."
   ]
  },
  {
   "cell_type": "code",
   "execution_count": 7,
   "metadata": {},
   "outputs": [
    {
     "name": "stdout",
     "output_type": "stream",
     "text": [
      "⚠️ Alert: DQI dropped to 88.0%, which is below the threshold of 90.0%!\n"
     ]
    }
   ],
   "source": [
    "# Write your code from here\n",
    "def calculate_dqi(total_entries, valid_entries):\n",
    "    if total_entries == 0:\n",
    "        return 0.0\n",
    "    return (valid_entries / total_entries) * 100\n",
    "\n",
    "def check_data_quality_alert(dqi, threshold=90.0):\n",
    "    if dqi < threshold:\n",
    "        print(f\"⚠️ Alert: DQI dropped to {dqi:.1f}%, which is below the threshold of {threshold}%!\")\n",
    "    else:\n",
    "        print(f\"✅ DQI is {dqi:.1f}% — All good.\")\n",
    "\n",
    "# Example: Dataset\n",
    "total_entries = 1000\n",
    "valid_entries = 880\n",
    "\n",
    "# Calculate DQI\n",
    "dqi_score = calculate_dqi(total_entries, valid_entries)\n",
    "\n",
    "# Check and trigger alert\n",
    "check_data_quality_alert(dqi_score, threshold=90.0)\n"
   ]
  },
  {
   "cell_type": "markdown",
   "metadata": {},
   "source": [
    "### Task 3: Real-time Data Quality Monitoring with Python and Great Expectations\n",
    "**Description**: Implement a system that monitors data quality in real-time."
   ]
  },
  {
   "cell_type": "code",
   "execution_count": 6,
   "metadata": {},
   "outputs": [
    {
     "name": "stdout",
     "output_type": "stream",
     "text": [
      "\n",
      "📦 Validating Batch 1\n"
     ]
    },
    {
     "ename": "AttributeError",
     "evalue": "module 'great_expectations' has no attribute 'from_pandas'",
     "output_type": "error",
     "traceback": [
      "\u001b[0;31m---------------------------------------------------------------------------\u001b[0m",
      "\u001b[0;31mAttributeError\u001b[0m                            Traceback (most recent call last)",
      "Cell \u001b[0;32mIn[6], line 34\u001b[0m\n\u001b[1;32m     32\u001b[0m \u001b[38;5;28;01mfor\u001b[39;00m i, batch \u001b[38;5;129;01min\u001b[39;00m \u001b[38;5;28menumerate\u001b[39m(data_batches, start\u001b[38;5;241m=\u001b[39m\u001b[38;5;241m1\u001b[39m):\n\u001b[1;32m     33\u001b[0m     \u001b[38;5;28mprint\u001b[39m(\u001b[38;5;124mf\u001b[39m\u001b[38;5;124m\"\u001b[39m\u001b[38;5;130;01m\\n\u001b[39;00m\u001b[38;5;124m📦 Validating Batch \u001b[39m\u001b[38;5;132;01m{\u001b[39;00mi\u001b[38;5;132;01m}\u001b[39;00m\u001b[38;5;124m\"\u001b[39m)\n\u001b[0;32m---> 34\u001b[0m     \u001b[43mvalidate_data\u001b[49m\u001b[43m(\u001b[49m\u001b[43mbatch\u001b[49m\u001b[43m,\u001b[49m\u001b[43m \u001b[49m\u001b[43mi\u001b[49m\u001b[43m)\u001b[49m\n\u001b[1;32m     35\u001b[0m     time\u001b[38;5;241m.\u001b[39msleep(\u001b[38;5;241m2\u001b[39m)  \u001b[38;5;66;03m# Simulate delay in real-time monitoring\u001b[39;00m\n",
      "Cell \u001b[0;32mIn[6], line 15\u001b[0m, in \u001b[0;36mvalidate_data\u001b[0;34m(df, batch_number)\u001b[0m\n\u001b[1;32m     14\u001b[0m \u001b[38;5;28;01mdef\u001b[39;00m\u001b[38;5;250m \u001b[39m\u001b[38;5;21mvalidate_data\u001b[39m(df, batch_number):\n\u001b[0;32m---> 15\u001b[0m     df_ge \u001b[38;5;241m=\u001b[39m \u001b[43mge\u001b[49m\u001b[38;5;241;43m.\u001b[39;49m\u001b[43mfrom_pandas\u001b[49m(df)\n\u001b[1;32m     17\u001b[0m     \u001b[38;5;66;03m# Add expectations\u001b[39;00m\n\u001b[1;32m     18\u001b[0m     df_ge\u001b[38;5;241m.\u001b[39mexpect_column_values_to_not_be_null(\u001b[38;5;124m\"\u001b[39m\u001b[38;5;124mage\u001b[39m\u001b[38;5;124m\"\u001b[39m)\n",
      "\u001b[0;31mAttributeError\u001b[0m: module 'great_expectations' has no attribute 'from_pandas'"
     ]
    }
   ],
   "source": [
    "# Write your code from here\n",
    "import great_expectations as ge\n",
    "import pandas as pd\n",
    "import time\n",
    "\n",
    "# Sample batches simulating streaming data\n",
    "data_batches = [\n",
    "    pd.DataFrame({'age': [25, 30, 35], 'income': [50000, 60000, 70000]}),\n",
    "    pd.DataFrame({'age': [22, 45, 33], 'income': [45000, None, 80000]}),  # Missing income\n",
    "    pd.DataFrame({'age': [29, 31, 50], 'income': [52000, 62000, 90000]})\n",
    "]\n",
    "\n",
    "# Define validation function\n",
    "def validate_data(df, batch_number):\n",
    "    df_ge = ge.from_pandas(df)\n",
    "\n",
    "    # Add expectations\n",
    "    df_ge.expect_column_values_to_not_be_null(\"age\")\n",
    "    df_ge.expect_column_values_to_not_be_null(\"income\")\n",
    "    df_ge.expect_column_values_to_be_between(\"age\", min_value=18, max_value=65)\n",
    "\n",
    "    # Validate\n",
    "    result = df_ge.validate()\n",
    "\n",
    "    # Check if validation passed\n",
    "    if not result[\"success\"]:\n",
    "        print(f\"❌ Alert: Batch {batch_number} failed data quality checks.\")\n",
    "    else:\n",
    "        print(f\"✅ Batch {batch_number} passed data quality checks.\")\n",
    "\n",
    "# Simulate real-time streaming\n",
    "for i, batch in enumerate(data_batches, start=1):\n",
    "    print(f\"\\n📦 Validating Batch {i}\")\n",
    "    validate_data(batch, i)\n",
    "    time.sleep(2)  # Simulate delay in real-time monitoring\n"
   ]
  }
 ],
 "metadata": {
  "kernelspec": {
   "display_name": "Python 3",
   "language": "python",
   "name": "python3"
  },
  "language_info": {
   "codemirror_mode": {
    "name": "ipython",
    "version": 3
   },
   "file_extension": ".py",
   "mimetype": "text/x-python",
   "name": "python",
   "nbconvert_exporter": "python",
   "pygments_lexer": "ipython3",
   "version": "3.10.12"
  }
 },
 "nbformat": 4,
 "nbformat_minor": 2
}

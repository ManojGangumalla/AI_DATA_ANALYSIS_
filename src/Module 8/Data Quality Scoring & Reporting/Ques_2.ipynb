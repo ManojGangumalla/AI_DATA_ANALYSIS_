{
 "cells": [
  {
   "cell_type": "markdown",
   "metadata": {},
   "source": [
    "## Build a Data Quality Dashboard\n",
    "\n",
    "**Description**: Create a simple dashboard that displays data quality metrics using a library like `dash` or `streamlit`.\n",
    "\n",
    "**Steps:**\n",
    "1. Install Streamlit: pip install streamlit\n",
    "2. Create a Python script dashboard.py.\n",
    "3. Run the dashboard: streamlit run dashboard.py"
   ]
  },
  {
   "cell_type": "code",
   "execution_count": 1,
   "metadata": {},
   "outputs": [
    {
     "name": "stderr",
     "output_type": "stream",
     "text": [
      "2025-05-15 15:40:40.668 WARNING streamlit.runtime.scriptrunner_utils.script_run_context: Thread 'MainThread': missing ScriptRunContext! This warning can be ignored when running in bare mode.\n",
      "2025-05-15 15:40:40.866 \n",
      "  \u001b[33m\u001b[1mWarning:\u001b[0m to view this Streamlit app on a browser, run it with the following\n",
      "  command:\n",
      "\n",
      "    streamlit run /home/vscode/.local/lib/python3.10/site-packages/ipykernel_launcher.py [ARGUMENTS]\n",
      "2025-05-15 15:40:40.867 Thread 'MainThread': missing ScriptRunContext! This warning can be ignored when running in bare mode.\n",
      "2025-05-15 15:40:40.868 Thread 'MainThread': missing ScriptRunContext! This warning can be ignored when running in bare mode.\n",
      "2025-05-15 15:40:40.869 Thread 'MainThread': missing ScriptRunContext! This warning can be ignored when running in bare mode.\n",
      "2025-05-15 15:40:40.869 Thread 'MainThread': missing ScriptRunContext! This warning can be ignored when running in bare mode.\n",
      "2025-05-15 15:40:40.870 Thread 'MainThread': missing ScriptRunContext! This warning can be ignored when running in bare mode.\n",
      "2025-05-15 15:40:40.870 Session state does not function when running a script without `streamlit run`\n",
      "2025-05-15 15:40:40.871 Thread 'MainThread': missing ScriptRunContext! This warning can be ignored when running in bare mode.\n",
      "2025-05-15 15:40:40.872 Thread 'MainThread': missing ScriptRunContext! This warning can be ignored when running in bare mode.\n",
      "2025-05-15 15:40:40.876 Thread 'MainThread': missing ScriptRunContext! This warning can be ignored when running in bare mode.\n",
      "2025-05-15 15:40:40.876 Thread 'MainThread': missing ScriptRunContext! This warning can be ignored when running in bare mode.\n",
      "2025-05-15 15:40:40.877 Thread 'MainThread': missing ScriptRunContext! This warning can be ignored when running in bare mode.\n",
      "2025-05-15 15:40:40.878 Thread 'MainThread': missing ScriptRunContext! This warning can be ignored when running in bare mode.\n",
      "2025-05-15 15:40:40.878 Thread 'MainThread': missing ScriptRunContext! This warning can be ignored when running in bare mode.\n",
      "2025-05-15 15:40:40.879 Thread 'MainThread': missing ScriptRunContext! This warning can be ignored when running in bare mode.\n",
      "2025-05-15 15:40:40.880 Thread 'MainThread': missing ScriptRunContext! This warning can be ignored when running in bare mode.\n",
      "2025-05-15 15:40:40.881 Thread 'MainThread': missing ScriptRunContext! This warning can be ignored when running in bare mode.\n",
      "2025-05-15 15:40:40.883 Thread 'MainThread': missing ScriptRunContext! This warning can be ignored when running in bare mode.\n",
      "2025-05-15 15:40:40.883 Thread 'MainThread': missing ScriptRunContext! This warning can be ignored when running in bare mode.\n",
      "2025-05-15 15:40:40.888 Thread 'MainThread': missing ScriptRunContext! This warning can be ignored when running in bare mode.\n",
      "2025-05-15 15:40:40.888 Thread 'MainThread': missing ScriptRunContext! This warning can be ignored when running in bare mode.\n",
      "2025-05-15 15:40:41.146 Thread 'MainThread': missing ScriptRunContext! This warning can be ignored when running in bare mode.\n",
      "2025-05-15 15:40:41.147 Thread 'MainThread': missing ScriptRunContext! This warning can be ignored when running in bare mode.\n"
     ]
    }
   ],
   "source": [
    "# Write your code from here\n",
    "import streamlit as st\n",
    "import pandas as pd\n",
    "import os\n",
    "\n",
    "def calculate_dqi(total, valid, errors):\n",
    "    if total == 0:\n",
    "        return 0.0\n",
    "    return valid / total\n",
    "\n",
    "def load_data(file_path):\n",
    "    if not os.path.exists(file_path):\n",
    "        st.error(f\"File '{file_path}' not found.\")\n",
    "        return None\n",
    "    return pd.read_csv(file_path)\n",
    "\n",
    "def main():\n",
    "    st.title(\"Data Quality Dashboard\")\n",
    "\n",
    "    file_path = st.text_input(\"Enter CSV file path:\", \"data.csv\")\n",
    "\n",
    "    df = load_data(file_path)\n",
    "    if df is not None:\n",
    "        total_entries = len(df)\n",
    "        error_entries = df.isnull().any(axis=1).sum()\n",
    "        valid_entries = total_entries - error_entries\n",
    "        dqi = calculate_dqi(total_entries, valid_entries, error_entries)\n",
    "\n",
    "        st.metric(label=\"Total Entries\", value=total_entries)\n",
    "        st.metric(label=\"Valid Entries\", value=valid_entries)\n",
    "        st.metric(label=\"Error Entries\", value=error_entries)\n",
    "        st.metric(label=\"Data Quality Index (DQI)\", value=f\"{dqi:.2%}\")\n",
    "\n",
    "        st.write(\"### Sample Data\")\n",
    "        st.dataframe(df.head())\n",
    "\n",
    "        # Bar chart for DQI and Errors\n",
    "        st.bar_chart({\n",
    "            \"DQI (%)\": [dqi * 100],\n",
    "            \"Errors\": [error_entries]\n",
    "        })\n",
    "\n",
    "if __name__ == \"__main__\":\n",
    "    main()\n"
   ]
  }
 ],
 "metadata": {
  "kernelspec": {
   "display_name": "Python 3",
   "language": "python",
   "name": "python3"
  },
  "language_info": {
   "codemirror_mode": {
    "name": "ipython",
    "version": 3
   },
   "file_extension": ".py",
   "mimetype": "text/x-python",
   "name": "python",
   "nbconvert_exporter": "python",
   "pygments_lexer": "ipython3",
   "version": "3.10.12"
  }
 },
 "nbformat": 4,
 "nbformat_minor": 2
}

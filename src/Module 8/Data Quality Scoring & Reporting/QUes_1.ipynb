{
 "cells": [
  {
   "cell_type": "markdown",
   "metadata": {},
   "source": [
    "## Read Data from CSV and Calculate DQI\n",
    "\n",
    "**Description**: Read data from a CSV file, identify errors as missing values, and calculate the DQI."
   ]
  },
  {
   "cell_type": "code",
   "execution_count": 4,
   "metadata": {},
   "outputs": [
    {
     "name": "stdout",
     "output_type": "stream",
     "text": [
      "All tests passed!\n",
      "Data Quality Index (DQI): 0.57\n",
      "Number of error entries: 3\n"
     ]
    }
   ],
   "source": [
    "import os\n",
    "import pandas as pd\n",
    "\n",
    "def calculate_dqi(total, valid, errors):\n",
    "    if total < 0 or valid < 0 or errors < 0:\n",
    "        raise ValueError(\"Parameters must be >= 0\")\n",
    "    if valid + errors > total:\n",
    "        raise ValueError(\"Sum of valid and errors cannot exceed total\")\n",
    "    return valid / total if total > 0 else 0.0\n",
    "\n",
    "def read_csv_and_calculate_dqi(file_path):\n",
    "    if not os.path.exists(file_path):\n",
    "        raise FileNotFoundError(f\"File '{file_path}' does not exist.\")\n",
    "    \n",
    "    df = pd.read_csv(file_path)\n",
    "    total_entries = len(df)\n",
    "    error_entries = df.isnull().any(axis=1).sum()  # Count rows with any missing value\n",
    "    valid_entries = total_entries - error_entries\n",
    "    \n",
    "    dqi = calculate_dqi(total_entries, valid_entries, error_entries)\n",
    "    return dqi, error_entries\n",
    "\n",
    "# Unit test function\n",
    "def test_calculate_dqi():\n",
    "    assert abs(calculate_dqi(10, 8, 2) - 0.8) < 1e-6\n",
    "    assert abs(calculate_dqi(0, 0, 0) - 0.0) < 1e-6\n",
    "    assert abs(calculate_dqi(5, 3, 2) - 0.6) < 1e-6\n",
    "    try:\n",
    "        calculate_dqi(5, 4, 2)  # invalid input, should raise error\n",
    "    except ValueError:\n",
    "        pass\n",
    "    else:\n",
    "        raise AssertionError(\"Expected ValueError not raised\")\n",
    "    print(\"All tests passed!\")\n",
    "\n",
    "# Run unit tests\n",
    "test_calculate_dqi()\n",
    "\n",
    "# Example usage\n",
    "file_path = 'data.csv'  # Make sure your CSV file is here\n",
    "try:\n",
    "    dqi_score, errors = read_csv_and_calculate_dqi(file_path)\n",
    "    print(f\"Data Quality Index (DQI): {dqi_score:.2f}\")\n",
    "    print(f\"Number of error entries: {errors}\")\n",
    "except FileNotFoundError as e:\n",
    "    print(e)\n"
   ]
  },
  {
   "cell_type": "markdown",
   "metadata": {},
   "source": [
    "### Visualize Basic DQI with Bar Plot\n",
    "\n",
    "**Description**: Create a bar plot for DQI and errors in a dataset."
   ]
  },
  {
   "cell_type": "code",
   "execution_count": 5,
   "metadata": {},
   "outputs": [
    {
     "data": {
      "image/png": "[encoded data removed]",
      "text/plain": [
       "<Figure size 640x480 with 1 Axes>"
      ]
     },
     "metadata": {},
     "output_type": "display_data"
    }
   ],
   "source": [
    "import matplotlib.pyplot as plt\n",
    "\n",
    "def plot_dqi_and_errors(dqi, errors):\n",
    "    labels = ['DQI', 'Errors']\n",
    "    values = [dqi, errors]\n",
    "    \n",
    "    plt.bar(labels, values, color=['green', 'red'])\n",
    "    plt.title('Data Quality Index (DQI) and Errors')\n",
    "    plt.ylabel('Count / Score')\n",
    "    plt.ylim(0, max(values) * 1.2)  # Add some space above bars\n",
    "    \n",
    "    # Annotate bars with values\n",
    "    for i, v in enumerate(values):\n",
    "        plt.text(i, v + max(values)*0.05, f\"{v}\", ha='center', fontweight='bold')\n",
    "    \n",
    "    plt.show()\n",
    "\n",
    "# Example usage:\n",
    "dqi_score = 85  # Example DQI score (could be percentage)\n",
    "error_count = 15  # Example number of errors\n",
    "\n",
    "plot_dqi_and_errors(dqi_score, error_count)"
   ]
  }
 ],
 "metadata": {
  "kernelspec": {
   "display_name": "Python 3",
   "language": "python",
   "name": "python3"
  },
  "language_info": {
   "codemirror_mode": {
    "name": "ipython",
    "version": 3
   },
   "file_extension": ".py",
   "mimetype": "text/x-python",
   "name": "python",
   "nbconvert_exporter": "python",
   "pygments_lexer": "ipython3",
   "version": "3.10.12"
  }
 },
 "nbformat": 4,
 "nbformat_minor": 2
}

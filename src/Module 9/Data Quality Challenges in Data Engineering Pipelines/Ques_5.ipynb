{
 "cells": [
  {
   "cell_type": "markdown",
   "metadata": {},
   "source": [
    "### Implementing Data Validation using Protobuf in a Distributed System\n",
    "**Description**: Use gRPC to implement a distributed system that validates messages using\n",
    "Protobuf.\n",
    "\n",
    "**Steps**:\n",
    "1. Create a .proto file for gRPC service.\n",
    "2. Implement server-side validation\n",
    "    - Create a gRPC server\n",
    "    - Bind the server to an address\n",
    "    - Start server"
   ]
  },
  {
   "cell_type": "code",
   "execution_count": 3,
   "metadata": {},
   "outputs": [
    {
     "ename": "ModuleNotFoundError",
     "evalue": "No module named 'validation_pb2'",
     "output_type": "error",
     "traceback": [
      "\u001b[0;31m---------------------------------------------------------------------------\u001b[0m",
      "\u001b[0;31mModuleNotFoundError\u001b[0m                       Traceback (most recent call last)",
      "Cell \u001b[0;32mIn[3], line 6\u001b[0m\n\u001b[1;32m      3\u001b[0m \u001b[38;5;28;01mimport\u001b[39;00m\u001b[38;5;250m \u001b[39m\u001b[38;5;21;01mre\u001b[39;00m\n\u001b[1;32m      4\u001b[0m \u001b[38;5;28;01mimport\u001b[39;00m\u001b[38;5;250m \u001b[39m\u001b[38;5;21;01mtime\u001b[39;00m\n\u001b[0;32m----> 6\u001b[0m \u001b[38;5;28;01mimport\u001b[39;00m\u001b[38;5;250m \u001b[39m\u001b[38;5;21;01mvalidation_pb2\u001b[39;00m\n\u001b[1;32m      7\u001b[0m \u001b[38;5;28;01mimport\u001b[39;00m\u001b[38;5;250m \u001b[39m\u001b[38;5;21;01mvalidation_pb2_grpc\u001b[39;00m\n\u001b[1;32m     10\u001b[0m \u001b[38;5;28;01mdef\u001b[39;00m\u001b[38;5;250m \u001b[39m\u001b[38;5;21mis_valid_email\u001b[39m(email):\n",
      "\u001b[0;31mModuleNotFoundError\u001b[0m: No module named 'validation_pb2'"
     ]
    }
   ],
   "source": [
    "from concurrent import futures\n",
    "import grpc\n",
    "import re\n",
    "import time\n",
    "\n",
    "import validation_pb2\n",
    "import validation_pb2_grpc\n",
    "\n",
    "\n",
    "def is_valid_email(email):\n",
    "    pattern = r\"^[\\w\\.-]+@[\\w\\.-]+\\.\\w+$\"\n",
    "    return re.match(pattern, email) is not None\n",
    "\n",
    "\n",
    "class ValidatorService(validation_pb2_grpc.ValidatorServicer):\n",
    "    def ValidatePerson(self, request, context):\n",
    "        try:\n",
    "            if not request.name:\n",
    "                return validation_pb2.ValidationResult(is_valid=False, message=\"Name cannot be empty\")\n",
    "            if request.age < 0:\n",
    "                return validation_pb2.ValidationResult(is_valid=False, message=\"Age must be non-negative\")\n",
    "            if not is_valid_email(request.email):\n",
    "                return validation_pb2.ValidationResult(is_valid=False, message=\"Invalid email format\")\n",
    "\n",
    "            return validation_pb2.ValidationResult(is_valid=True, message=\"Validation successful\")\n",
    "        except Exception as e:\n",
    "            context.set_code(grpc.StatusCode.INTERNAL)\n",
    "            context.set_details(f\"Server error: {str(e)}\")\n",
    "            return validation_pb2.ValidationResult(is_valid=False, message=\"Server encountered an error\")\n",
    "\n",
    "\n",
    "def serve():\n",
    "    server = grpc.server(futures.ThreadPoolExecutor(max_workers=10))\n",
    "    validation_pb2_grpc.add_ValidatorServicer_to_server(ValidatorService(), server)\n",
    "    server.add_insecure_port('[::]:50051')\n",
    "    print(\"Server started on port 50051.\")\n",
    "    server.start()\n",
    "    try:\n",
    "        while True:\n",
    "            time.sleep(86400)\n",
    "    except KeyboardInterrupt:\n",
    "        print(\"Shutting down server...\")\n",
    "        server.stop(0)\n",
    "\n",
    "\n",
    "if __name__ == '__main__':\n",
    "    serve()\n"
   ]
  }
 ],
 "metadata": {
  "kernelspec": {
   "display_name": "Python 3",
   "language": "python",
   "name": "python3"
  },
  "language_info": {
   "codemirror_mode": {
    "name": "ipython",
    "version": 3
   },
   "file_extension": ".py",
   "mimetype": "text/x-python",
   "name": "python",
   "nbconvert_exporter": "python",
   "pygments_lexer": "ipython3",
   "version": "3.10.12"
  }
 },
 "nbformat": 4,
 "nbformat_minor": 2
}

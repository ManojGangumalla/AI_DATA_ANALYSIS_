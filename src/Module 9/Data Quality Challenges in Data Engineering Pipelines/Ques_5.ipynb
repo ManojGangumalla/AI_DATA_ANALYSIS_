{
 "cells": [
  {
   "cell_type": "markdown",
   "metadata": {},
   "source": [
    "### Implementing Data Validation using Protobuf in a Distributed System\n",
    "**Description**: Use gRPC to implement a distributed system that validates messages using\n",
    "Protobuf.\n",
    "\n",
    "**Steps**:\n",
    "1. Create a .proto file for gRPC service.\n",
    "2. Implement server-side validation\n",
    "    - Create a gRPC server\n",
    "    - Bind the server to an address\n",
    "    - Start server"
   ]
  },
  {
   "cell_type": "code",
   "execution_count": 2,
   "metadata": {},
   "outputs": [
    {
     "ename": "ModuleNotFoundError",
     "evalue": "No module named 'validation_pb2'",
     "output_type": "error",
     "traceback": [
      "\u001b[0;31m---------------------------------------------------------------------------\u001b[0m",
      "\u001b[0;31mModuleNotFoundError\u001b[0m                       Traceback (most recent call last)",
      "Cell \u001b[0;32mIn[2], line 7\u001b[0m\n\u001b[1;32m      4\u001b[0m \u001b[38;5;28;01mfrom\u001b[39;00m\u001b[38;5;250m \u001b[39m\u001b[38;5;21;01mconcurrent\u001b[39;00m\u001b[38;5;250m \u001b[39m\u001b[38;5;28;01mimport\u001b[39;00m futures\n\u001b[1;32m      5\u001b[0m \u001b[38;5;28;01mimport\u001b[39;00m\u001b[38;5;250m \u001b[39m\u001b[38;5;21;01mtime\u001b[39;00m\n\u001b[0;32m----> 7\u001b[0m \u001b[38;5;28;01mimport\u001b[39;00m\u001b[38;5;250m \u001b[39m\u001b[38;5;21;01mvalidation_pb2\u001b[39;00m\n\u001b[1;32m      8\u001b[0m \u001b[38;5;28;01mimport\u001b[39;00m\u001b[38;5;250m \u001b[39m\u001b[38;5;21;01mvalidation_pb2_grpc\u001b[39;00m\n\u001b[1;32m     10\u001b[0m \u001b[38;5;28;01mclass\u001b[39;00m\u001b[38;5;250m \u001b[39m\u001b[38;5;21;01mValidatorService\u001b[39;00m(validation_pb2_grpc\u001b[38;5;241m.\u001b[39mValidatorServicer):\n",
      "\u001b[0;31mModuleNotFoundError\u001b[0m: No module named 'validation_pb2'"
     ]
    }
   ],
   "source": [
    "# Write your code from here\n",
    "# server.py\n",
    "import grpc\n",
    "from concurrent import futures\n",
    "import time\n",
    "\n",
    "import validation_pb2\n",
    "import validation_pb2_grpc\n",
    "\n",
    "class ValidatorService(validation_pb2_grpc.ValidatorServicer):\n",
    "    def ValidatePerson(self, request, context):\n",
    "        # Basic validation rules\n",
    "        if not request.name:\n",
    "            return validation_pb2.ValidationResult(\n",
    "                is_valid=False,\n",
    "                message=\"Name cannot be empty\"\n",
    "            )\n",
    "        if request.age < 0:\n",
    "            return validation_pb2.ValidationResult(\n",
    "                is_valid=False,\n",
    "                message=\"Age must be non-negative\"\n",
    "            )\n",
    "        if '@' not in request.email:\n",
    "            return validation_pb2.ValidationResult(\n",
    "                is_valid=False,\n",
    "                message=\"Email must be valid\"\n",
    "            )\n",
    "        return validation_pb2.ValidationResult(\n",
    "            is_valid=True,\n",
    "            message=\"Validation passed\"\n",
    "        )\n",
    "\n",
    "def serve():\n",
    "    server = grpc.server(futures.ThreadPoolExecutor(max_workers=5))\n",
    "    validation_pb2_grpc.add_ValidatorServicer_to_server(ValidatorService(), server)\n",
    "    server.add_insecure_port('[::]:50051')\n",
    "    server.start()\n",
    "    print(\"Server started on port 50051.\")\n",
    "    server.wait_for_termination()\n",
    "\n",
    "if __name__ == \"__main__\":\n",
    "    serve()\n"
   ]
  }
 ],
 "metadata": {
  "kernelspec": {
   "display_name": "Python 3",
   "language": "python",
   "name": "python3"
  },
  "language_info": {
   "codemirror_mode": {
    "name": "ipython",
    "version": 3
   },
   "file_extension": ".py",
   "mimetype": "text/x-python",
   "name": "python",
   "nbconvert_exporter": "python",
   "pygments_lexer": "ipython3",
   "version": "3.10.12"
  }
 },
 "nbformat": 4,
 "nbformat_minor": 2
}

{
 "cells": [
  {
   "cell_type": "markdown",
   "metadata": {},
   "source": [
    "### Complex Schema Validation with Avro\n",
    "**Description**: Implement a solution in Python to validate records against a complex nested Avro schema.\n",
    "\n",
    "Eg., Complex schema ( nested_schema.avsc ):\n",
    "\n",
    "**Steps**:\n",
    "1. Load schema\n",
    "2. Example data to validate\n",
    "3. Validate against schema\n",
    "4. Read back to check"
   ]
  },
  {
   "cell_type": "code",
   "execution_count": 1,
   "metadata": {},
   "outputs": [
    {
     "name": "stdout",
     "output_type": "stream",
     "text": [
      "Record is valid according to the schema.\n"
     ]
    }
   ],
   "source": [
    "import json\n",
    "from fastavro import parse_schema, validate\n",
    "\n",
    "def load_avro_schema(schema_path):\n",
    "    \"\"\"Load Avro schema from JSON file with error handling.\"\"\"\n",
    "    try:\n",
    "        with open(schema_path, 'r') as file:\n",
    "            schema_json = json.load(file)\n",
    "        return parse_schema(schema_json)\n",
    "    except FileNotFoundError:\n",
    "        print(f\"Error: Schema file '{schema_path}' not found.\")\n",
    "        return None\n",
    "    except json.JSONDecodeError:\n",
    "        print(f\"Error: Schema file '{schema_path}' contains invalid JSON.\")\n",
    "        return None\n",
    "    except Exception as e:\n",
    "        print(f\"Unexpected error loading schema: {e}\")\n",
    "        return None\n",
    "\n",
    "def validate_record_against_schema(record, schema):\n",
    "    \"\"\"Validate a single record against the parsed Avro schema.\"\"\"\n",
    "    try:\n",
    "        return validate(record, schema)\n",
    "    except Exception as e:\n",
    "        print(f\"Validation error: {e}\")\n",
    "        return False\n",
    "\n",
    "def main():\n",
    "    schema_path = 'nested_schema.avsc'\n",
    "\n",
    "    # Load and parse schema\n",
    "    avro_schema = load_avro_schema(schema_path)\n",
    "    if avro_schema is None:\n",
    "        return  # Exit if schema loading failed\n",
    "\n",
    "    # Example record to validate\n",
    "    example_record = {\n",
    "        \"name\": \"John Doe\",\n",
    "        \"age\": 30,\n",
    "        \"emails\": [\"john@example.com\", \"doe@example.com\"],\n",
    "        \"address\": {\n",
    "            \"street\": \"123 Main St\",\n",
    "            \"city\": \"Springfield\",\n",
    "            \"zipcode\": \"12345\"\n",
    "        }\n",
    "    }\n",
    "\n",
    "    # Validate record against schema\n",
    "    if validate_record_against_schema(example_record, avro_schema):\n",
    "        print(\"Record is valid according to the schema.\")\n",
    "    else:\n",
    "        print(\"Record validation failed.\")\n",
    "\n",
    "if __name__ == \"__main__\":\n",
    "    main()\n"
   ]
  }
 ],
 "metadata": {
  "kernelspec": {
   "display_name": "Python 3",
   "language": "python",
   "name": "python3"
  },
  "language_info": {
   "codemirror_mode": {
    "name": "ipython",
    "version": 3
   },
   "file_extension": ".py",
   "mimetype": "text/x-python",
   "name": "python",
   "nbconvert_exporter": "python",
   "pygments_lexer": "ipython3",
   "version": "3.10.12"
  }
 },
 "nbformat": 4,
 "nbformat_minor": 2
}

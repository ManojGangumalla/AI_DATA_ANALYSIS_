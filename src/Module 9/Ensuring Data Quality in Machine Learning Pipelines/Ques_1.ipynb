{
 "cells": [
  {
   "cell_type": "markdown",
   "metadata": {},
   "source": [
    "### Garbage In, Garbage Out (GIGO): Cleaning Missing Data\n",
    "**Description**: Load a dataset (e.g., Titanic dataset) and identify missing values. Use\n",
    "appropriate techniques to handle these missing values."
   ]
  },
  {
   "cell_type": "code",
   "execution_count": 1,
   "metadata": {},
   "outputs": [
    {
     "name": "stdout",
     "output_type": "stream",
     "text": [
      "Missing values per column:\n",
      "survived         0\n",
      "pclass           0\n",
      "sex              0\n",
      "age            177\n",
      "sibsp            0\n",
      "parch            0\n",
      "fare             0\n",
      "embarked         2\n",
      "class            0\n",
      "who              0\n",
      "adult_male       0\n",
      "deck           688\n",
      "embark_town      2\n",
      "alive            0\n",
      "alone            0\n",
      "dtype: int64\n",
      "\n",
      "After handling missing data:\n",
      "    age  age_filled embarked embarked_filled\n",
      "0  22.0        22.0        S               S\n",
      "1  38.0        38.0        C               C\n",
      "2  26.0        26.0        S               S\n",
      "3  35.0        35.0        S               S\n",
      "4  35.0        35.0        S               S\n",
      "5   NaN        28.0        Q               Q\n",
      "6  54.0        54.0        S               S\n",
      "7   2.0         2.0        S               S\n",
      "8  27.0        27.0        S               S\n",
      "9  14.0        14.0        C               C\n"
     ]
    }
   ],
   "source": [
    "# Write your code from here\n",
    "import pandas as pd\n",
    "import seaborn as sns\n",
    "\n",
    "# Load Titanic dataset from seaborn\n",
    "titanic = sns.load_dataset('titanic')\n",
    "\n",
    "# 1. Identify missing values\n",
    "print(\"Missing values per column:\")\n",
    "print(titanic.isnull().sum())\n",
    "\n",
    "# 2. Handling missing data\n",
    "\n",
    "# Example techniques:\n",
    "\n",
    "# a) Drop rows where 'age' or 'embarked' is missing (less preferred if many rows)\n",
    "titanic_dropped = titanic.dropna(subset=['age', 'embarked'])\n",
    "\n",
    "# b) Fill missing 'age' values with median age\n",
    "median_age = titanic['age'].median()\n",
    "titanic['age_filled'] = titanic['age'].fillna(median_age)\n",
    "\n",
    "# c) Fill missing 'embarked' with mode (most common port)\n",
    "mode_embarked = titanic['embarked'].mode()[0]\n",
    "titanic['embarked_filled'] = titanic['embarked'].fillna(mode_embarked)\n",
    "\n",
    "# Display summary of changes\n",
    "print(\"\\nAfter handling missing data:\")\n",
    "print(titanic[['age', 'age_filled', 'embarked', 'embarked_filled']].head(10))\n"
   ]
  }
 ],
 "metadata": {
  "kernelspec": {
   "display_name": "Python 3",
   "language": "python",
   "name": "python3"
  },
  "language_info": {
   "codemirror_mode": {
    "name": "ipython",
    "version": 3
   },
   "file_extension": ".py",
   "mimetype": "text/x-python",
   "name": "python",
   "nbconvert_exporter": "python",
   "pygments_lexer": "ipython3",
   "version": "3.10.12"
  }
 },
 "nbformat": 4,
 "nbformat_minor": 2
}

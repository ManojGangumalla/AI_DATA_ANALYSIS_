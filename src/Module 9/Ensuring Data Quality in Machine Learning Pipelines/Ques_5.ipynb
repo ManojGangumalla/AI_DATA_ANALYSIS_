{
 "cells": [
  {
   "cell_type": "markdown",
   "metadata": {},
   "source": [
    "### Ensuring Consistency Across Training & Inference Datasets: Feature Scaling\n",
    "**Question**: Load a dataset (e.g., Boston Housing) and perform feature scaling. Ensure the\n",
    "same scaling is applied during model inference with new data."
   ]
  },
  {
   "cell_type": "code",
   "execution_count": 3,
   "metadata": {},
   "outputs": [
    {
     "name": "stderr",
     "output_type": "stream",
     "text": [
      "/tmp/ipykernel_49259/567007205.py:23: FutureWarning: DataFrame.applymap has been deprecated. Use DataFrame.map instead.\n",
      "  if not df.applymap(lambda x: np.isfinite(x)).all().all():\n",
      "/tmp/ipykernel_49259/567007205.py:23: FutureWarning: DataFrame.applymap has been deprecated. Use DataFrame.map instead.\n",
      "  if not df.applymap(lambda x: np.isfinite(x)).all().all():\n",
      "/tmp/ipykernel_49259/567007205.py:23: FutureWarning: DataFrame.applymap has been deprecated. Use DataFrame.map instead.\n",
      "  if not df.applymap(lambda x: np.isfinite(x)).all().all():\n",
      "...\n",
      "----------------------------------------------------------------------\n",
      "Ran 3 tests in 0.005s\n",
      "\n",
      "OK\n"
     ]
    },
    {
     "name": "stdout",
     "output_type": "stream",
     "text": [
      "Predicted value for new data: 4.151942685752971\n"
     ]
    }
   ],
   "source": [
    "import pandas as pd\n",
    "import numpy as np\n",
    "from sklearn.datasets import fetch_california_housing\n",
    "from sklearn.model_selection import train_test_split\n",
    "from sklearn.preprocessing import StandardScaler\n",
    "from sklearn.linear_model import LinearRegression\n",
    "import unittest\n",
    "\n",
    "# Load California Housing dataset\n",
    "housing = fetch_california_housing(as_frame=True)\n",
    "X = housing.data\n",
    "y = housing.target\n",
    "\n",
    "# Split the data\n",
    "X_train, X_test, y_train, y_test = train_test_split(\n",
    "    X, y, test_size=0.2, random_state=42\n",
    ")\n",
    "\n",
    "# --- Error Handling & Validation ---\n",
    "def validate_data(df, name=\"Data\"):\n",
    "    if df.isnull().any().any():\n",
    "        raise ValueError(f\"{name} contains null values.\")\n",
    "    if not df.applymap(lambda x: np.isfinite(x)).all().all():\n",
    "        raise ValueError(f\"{name} contains non-finite (inf or NaN) values.\")\n",
    "\n",
    "validate_data(X_train, \"X_train\")\n",
    "validate_data(X_test, \"X_test\")\n",
    "\n",
    "# --- Feature Scaling ---\n",
    "scaler = StandardScaler()\n",
    "X_train_scaled = scaler.fit_transform(X_train)\n",
    "X_test_scaled = scaler.transform(X_test)\n",
    "\n",
    "# --- Train Model ---\n",
    "model = LinearRegression()\n",
    "model.fit(X_train_scaled, y_train)\n",
    "\n",
    "# --- Inference on New Data ---\n",
    "new_data = pd.DataFrame([X.iloc[0]])  # Simulate new input\n",
    "validate_data(new_data, \"new_data\")  # Validate before inference\n",
    "new_data_scaled = scaler.transform(new_data)\n",
    "predicted_value = model.predict(new_data_scaled)\n",
    "\n",
    "print(\"Predicted value for new data:\", predicted_value[0])\n",
    "\n",
    "# --- Unit Testing ---\n",
    "class TestScalingInference(unittest.TestCase):\n",
    "    def test_scaled_mean_std(self):\n",
    "        mean = np.mean(X_train_scaled, axis=0)\n",
    "        std = np.std(X_train_scaled, axis=0)\n",
    "        self.assertTrue(np.allclose(mean, 0, atol=1e-1), \"Mean not ~0\")\n",
    "        self.assertTrue(np.allclose(std, 1, atol=1e-1), \"Std not ~1\")\n",
    "\n",
    "    def test_prediction_shape(self):\n",
    "        self.assertEqual(predicted_value.shape, (1,), \"Prediction shape mismatch\")\n",
    "\n",
    "    def test_no_null_in_scaled_data(self):\n",
    "        self.assertFalse(np.isnan(X_train_scaled).any(), \"Nulls found in scaled data\")\n",
    "\n",
    "if __name__ == '__main__':\n",
    "    unittest.main(argv=[''], exit=False)\n"
   ]
  }
 ],
 "metadata": {
  "kernelspec": {
   "display_name": "Python 3",
   "language": "python",
   "name": "python3"
  },
  "language_info": {
   "codemirror_mode": {
    "name": "ipython",
    "version": 3
   },
   "file_extension": ".py",
   "mimetype": "text/x-python",
   "name": "python",
   "nbconvert_exporter": "python",
   "pygments_lexer": "ipython3",
   "version": "3.10.12"
  }
 },
 "nbformat": 4,
 "nbformat_minor": 2
}

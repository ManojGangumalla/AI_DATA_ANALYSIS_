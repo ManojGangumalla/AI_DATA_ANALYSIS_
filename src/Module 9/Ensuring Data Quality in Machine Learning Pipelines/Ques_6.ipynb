{
 "cells": [
  {
   "cell_type": "markdown",
   "metadata": {},
   "source": [
    "### Bias & Fairness in Data: Bias Mitigation Techniques\n",
    "**Question**: Use the Adult Income dataset and apply reweighing technique to balance the\n",
    "class weights based on sensitive attributes (e.g., gender)."
   ]
  },
  {
   "cell_type": "code",
   "execution_count": 2,
   "metadata": {},
   "outputs": [
    {
     "name": "stdout",
     "output_type": "stream",
     "text": [
      "Downloading adult.data...\n",
      "Saved to /home/vscode/.local/lib/python3.10/site-packages/aif360/data/raw/adult/adult.data\n",
      "Downloading adult.test...\n",
      "Saved to /home/vscode/.local/lib/python3.10/site-packages/aif360/data/raw/adult/adult.test\n",
      "Downloading adult.names...\n",
      "Saved to /home/vscode/.local/lib/python3.10/site-packages/aif360/data/raw/adult/adult.names\n"
     ]
    }
   ],
   "source": [
    "import os\n",
    "import aif360\n",
    "import urllib.request\n",
    "\n",
    "# URLs of the required Adult dataset files\n",
    "urls = {\n",
    "    'adult.data': 'https://archive.ics.uci.edu/ml/machine-learning-databases/adult/adult.data',\n",
    "    'adult.test': 'https://archive.ics.uci.edu/ml/machine-learning-databases/adult/adult.test',\n",
    "    'adult.names': 'https://archive.ics.uci.edu/ml/machine-learning-databases/adult/adult.names',\n",
    "}\n",
    "\n",
    "# Get the base directory of aif360 package\n",
    "aif360_path = os.path.dirname(aif360.__file__)\n",
    "data_dir = os.path.join(aif360_path, 'data', 'raw', 'adult')\n",
    "\n",
    "# Create directory if it doesn't exist\n",
    "os.makedirs(data_dir, exist_ok=True)\n",
    "\n",
    "# Download each file if it doesn't already exist\n",
    "for filename, url in urls.items():\n",
    "    file_path = os.path.join(data_dir, filename)\n",
    "    if not os.path.isfile(file_path):\n",
    "        print(f\"Downloading {filename}...\")\n",
    "        urllib.request.urlretrieve(url, file_path)\n",
    "        print(f\"Saved to {file_path}\")\n",
    "    else:\n",
    "        print(f\"{filename} already exists, skipping download.\")\n"
   ]
  }
 ],
 "metadata": {
  "kernelspec": {
   "display_name": "Python 3",
   "language": "python",
   "name": "python3"
  },
  "language_info": {
   "codemirror_mode": {
    "name": "ipython",
    "version": 3
   },
   "file_extension": ".py",
   "mimetype": "text/x-python",
   "name": "python",
   "nbconvert_exporter": "python",
   "pygments_lexer": "ipython3",
   "version": "3.10.12"
  }
 },
 "nbformat": 4,
 "nbformat_minor": 2
}

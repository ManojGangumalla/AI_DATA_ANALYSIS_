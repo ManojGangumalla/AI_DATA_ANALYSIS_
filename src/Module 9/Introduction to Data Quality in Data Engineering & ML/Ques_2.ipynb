{
 "cells": [
  {
   "cell_type": "markdown",
   "metadata": {},
   "source": [
    "### Imputing Missing Data\n",
    "**Description**: Impute missing data using various strategies like mean, median, or mode."
   ]
  },
  {
   "cell_type": "code",
   "execution_count": 1,
   "metadata": {},
   "outputs": [
    {
     "name": "stdout",
     "output_type": "stream",
     "text": [
      "Original DataFrame with missing values:\n",
      "    age   salary department\n",
      "0  25.0  50000.0         HR\n",
      "1  30.0  60000.0         IT\n",
      "2   NaN  55000.0       None\n",
      "3  40.0      NaN         HR\n",
      "4  35.0  58000.0         IT\n",
      "5   NaN  62000.0       None\n",
      "6  50.0      NaN    Finance\n",
      "\n",
      "DataFrame after imputation:\n",
      "    age   salary department  age_mean_imputed  salary_median_imputed  \\\n",
      "0  25.0  50000.0         HR              25.0                50000.0   \n",
      "1  30.0  60000.0         IT              30.0                60000.0   \n",
      "2   NaN  55000.0       None              36.0                55000.0   \n",
      "3  40.0      NaN         HR              40.0                58000.0   \n",
      "4  35.0  58000.0         IT              35.0                58000.0   \n",
      "5   NaN  62000.0       None              36.0                62000.0   \n",
      "6  50.0      NaN    Finance              50.0                58000.0   \n",
      "\n",
      "  department_mode_imputed  \n",
      "0                      HR  \n",
      "1                      IT  \n",
      "2                      HR  \n",
      "3                      HR  \n",
      "4                      IT  \n",
      "5                      HR  \n",
      "6                 Finance  \n"
     ]
    }
   ],
   "source": [
    "# Write your code from here\n",
    "import pandas as pd\n",
    "from scipy.stats import mode\n",
    "\n",
    "# Sample DataFrame with missing values\n",
    "data = {\n",
    "    'age': [25, 30, None, 40, 35, None, 50],\n",
    "    'salary': [50000, 60000, 55000, None, 58000, 62000, None],\n",
    "    'department': ['HR', 'IT', None, 'HR', 'IT', None, 'Finance']\n",
    "}\n",
    "\n",
    "df = pd.DataFrame(data)\n",
    "print(\"Original DataFrame with missing values:\")\n",
    "print(df)\n",
    "\n",
    "# Mean imputation for 'age' column\n",
    "df['age_mean_imputed'] = df['age'].fillna(df['age'].mean())\n",
    "\n",
    "# Median imputation for 'salary' column\n",
    "df['salary_median_imputed'] = df['salary'].fillna(df['salary'].median())\n",
    "\n",
    "# Mode imputation for 'department' column\n",
    "mode_dept = df['department'].mode()[0]  # mode() returns a Series, take first\n",
    "df['department_mode_imputed'] = df['department'].fillna(mode_dept)\n",
    "\n",
    "print(\"\\nDataFrame after imputation:\")\n",
    "print(df)\n"
   ]
  }
 ],
 "metadata": {
  "kernelspec": {
   "display_name": "Python 3",
   "language": "python",
   "name": "python3"
  },
  "language_info": {
   "codemirror_mode": {
    "name": "ipython",
    "version": 3
   },
   "file_extension": ".py",
   "mimetype": "text/x-python",
   "name": "python",
   "nbconvert_exporter": "python",
   "pygments_lexer": "ipython3",
   "version": "3.10.12"
  }
 },
 "nbformat": 4,
 "nbformat_minor": 2
}

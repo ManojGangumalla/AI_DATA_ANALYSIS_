{
 "cells": [
  {
   "cell_type": "code",
   "execution_count": 3,
   "metadata": {},
   "outputs": [
    {
     "name": "stdout",
     "output_type": "stream",
     "text": [
      "Q1: 2150.0, Q3: 3450.0, IQR: 1300.0\n",
      "Lower bound: 200.0, Upper bound: 5400.0\n",
      "Number of outliers detected: 3\n",
      "Original dataset size: 27\n",
      "Cleaned dataset size: 24\n",
      "Rows removed: 3\n"
     ]
    }
   ],
   "source": [
    "# Detect & Remove Outliers using IQR Method\n",
    "\n",
    "# Objective: Learn to identify and remove outliers from a dataset using the Interquartile Range (IQR) method.\n",
    "# Instructions:\n",
    "# For each example, perform the following steps:\n",
    "#     1. Load the Dataset: Load the dataset into your environment. You can use pandas to read the CSV file.\n",
    "#     2. Calculate IQR: Calculate the first quartile (Q1), third quartile (Q3), and the IQR for the specified column.\n",
    "#     3. Identify Outliers: Determine which data points are considered outliers.\n",
    "#     4. Remove Outliers: Remove the outliers from the dataset.\n",
    "#     5. Verify: Ensure the outliers are removed by checking the size or summary statistics of the dataset before and after the removal.\n",
    "    \n",
    "    \n",
    "    \n",
    "\n",
    "# Task:\n",
    "#     Dataset: sales_data.csv(get it by your own it includes the column of Monthly_Sales)\n",
    "#     Column to analyze: Monthly_Sales\n",
    "#     Steps:\n",
    "#         1. Load sales_data.csv .\n",
    "#         2. Calculate Q1, Q3, and IQR for Monthly_Sales .\n",
    "#         3. Identify outliers.\n",
    "#         4. Remove the outliers.\n",
    "#         5. Check the number of rows removed.\n",
    "import pandas as pd\n",
    "\n",
    "# Load the dataset\n",
    "df = pd.read_csv(\"sales_data.csv\")\n",
    "\n",
    "# Calculate Q1, Q3, and IQR\n",
    "Q1 = df['Monthly_Sales'].quantile(0.25)\n",
    "Q3 = df['Monthly_Sales'].quantile(0.75)\n",
    "IQR = Q3 - Q1\n",
    "\n",
    "# Define bounds for outliers\n",
    "lower_bound = Q1 - 1.5 * IQR\n",
    "upper_bound = Q3 + 1.5 * IQR\n",
    "\n",
    "# Identify outliers\n",
    "outliers = df[(df['Monthly_Sales'] < lower_bound) | (df['Monthly_Sales'] > upper_bound)]\n",
    "\n",
    "# Remove outliers\n",
    "df_clean = df[(df['Monthly_Sales'] >= lower_bound) & (df['Monthly_Sales'] <= upper_bound)]\n",
    "\n",
    "# Print results\n",
    "print(f\"Q1: {Q1}, Q3: {Q3}, IQR: {IQR}\")\n",
    "print(f\"Lower bound: {lower_bound}, Upper bound: {upper_bound}\")\n",
    "print(f\"Number of outliers detected: {len(outliers)}\")\n",
    "print(f\"Original dataset size: {df.shape[0]}\")\n",
    "print(f\"Cleaned dataset size: {df_clean.shape[0]}\")\n",
    "print(f\"Rows removed: {df.shape[0] - df_clean.shape[0]}\")\n",
    "\n",
    "\n",
    "\n",
    "\n"
   ]
  }
 ],
 "metadata": {
  "kernelspec": {
   "display_name": "Python 3",
   "language": "python",
   "name": "python3"
  },
  "language_info": {
   "codemirror_mode": {
    "name": "ipython",
    "version": 3
   },
   "file_extension": ".py",
   "mimetype": "text/x-python",
   "name": "python",
   "nbconvert_exporter": "python",
   "pygments_lexer": "ipython3",
   "version": "3.10.12"
  }
 },
 "nbformat": 4,
 "nbformat_minor": 2
}

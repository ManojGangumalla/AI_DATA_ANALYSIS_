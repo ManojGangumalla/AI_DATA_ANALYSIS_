{
 "cells": [
  {
   "cell_type": "code",
   "execution_count": 1,
   "metadata": {},
   "outputs": [
    {
     "name": "stdout",
     "output_type": "stream",
     "text": [
      "Winsorized data: [np.float64(10.9), 12, 12, 15, 14, 15, np.float64(61.74999999999991), 14, 15, 13]\n"
     ]
    }
   ],
   "source": [
    "# Question: Winsorization of Data\n",
    "# Description: Apply Winsorization to a given dataset to handle outliers.\n",
    "import numpy as np\n",
    "\n",
    "def winsorize_data(data, lower_percentile=5, upper_percentile=95):\n",
    "    # Calculate the lower and upper bounds based on the percentiles\n",
    "    lower_bound = np.percentile(data, lower_percentile)\n",
    "    upper_bound = np.percentile(data, upper_percentile)\n",
    "    \n",
    "    # Apply Winsorization: cap values outside the bounds\n",
    "    winsorized_data = [\n",
    "        max(min(x, upper_bound), lower_bound) for x in data\n",
    "    ]\n",
    "    \n",
    "    return winsorized_data\n",
    "\n",
    "# Example usage\n",
    "data = [10, 12, 12, 15, 14, 15, 100, 14, 15, 13]\n",
    "winsorized_data = winsorize_data(data)\n",
    "print(\"Winsorized data:\", winsorized_data)\n"
   ]
  }
 ],
 "metadata": {
  "kernelspec": {
   "display_name": "Python 3",
   "language": "python",
   "name": "python3"
  },
  "language_info": {
   "codemirror_mode": {
    "name": "ipython",
    "version": 3
   },
   "file_extension": ".py",
   "mimetype": "text/x-python",
   "name": "python",
   "nbconvert_exporter": "python",
   "pygments_lexer": "ipython3",
   "version": "3.10.12"
  }
 },
 "nbformat": 4,
 "nbformat_minor": 2
}

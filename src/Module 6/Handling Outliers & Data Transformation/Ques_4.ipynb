{
 "cells": [
  {
   "cell_type": "code",
   "execution_count": 1,
   "metadata": {},
   "outputs": [
    {
     "name": "stdout",
     "output_type": "stream",
     "text": [
      "Outlier indices: []\n",
      "Mahalanobis distances: [np.float64(1.414213562373517), np.float64(0.6324555320337604), np.float64(0.6324555320337688), np.float64(1.4142135623736352), np.float64(1.7888543819998666)]\n"
     ]
    }
   ],
   "source": [
    "# Question: Multivariate Outlier Detection Using Mahalanobis Distance\n",
    "# Description: Implement Mahalanobis distance to detect multivariate outliers in a dataset.\n",
    "import numpy as np\n",
    "import pandas as pd\n",
    "from scipy.stats import chi2\n",
    "\n",
    "def mahalanobis_outliers(data, threshold=0.99):\n",
    "    # Convert to NumPy array if data is a DataFrame\n",
    "    if isinstance(data, pd.DataFrame):\n",
    "        data = data.values\n",
    "\n",
    "    # Mean vector and covariance matrix\n",
    "    mean_vec = np.mean(data, axis=0)\n",
    "    cov_matrix = np.cov(data, rowvar=False)\n",
    "    inv_cov_matrix = np.linalg.inv(cov_matrix)\n",
    "\n",
    "    # Mahalanobis distances\n",
    "    distances = []\n",
    "    for x in data:\n",
    "        diff = x - mean_vec\n",
    "        md = np.sqrt(diff.T @ inv_cov_matrix @ diff)\n",
    "        distances.append(md)\n",
    "\n",
    "    # Chi-square threshold\n",
    "    dof = data.shape[1]\n",
    "    chi2_thresh = np.sqrt(chi2.ppf(threshold, df=dof))\n",
    "\n",
    "    # Outlier indices\n",
    "    outlier_indices = [i for i, d in enumerate(distances) if d > chi2_thresh]\n",
    "    \n",
    "    return outlier_indices, distances\n",
    "\n",
    "# Example usage\n",
    "data = np.array([\n",
    "    [1, 2],\n",
    "    [2, 3],\n",
    "    [3, 4],\n",
    "    [4, 5],\n",
    "    [100, 200]  # Outlier\n",
    "])\n",
    "\n",
    "outliers, distances = mahalanobis_outliers(data)\n",
    "print(\"Outlier indices:\", outliers)\n",
    "print(\"Mahalanobis distances:\", distances)\n",
    "\n"
   ]
  }
 ],
 "metadata": {
  "kernelspec": {
   "display_name": "Python 3",
   "language": "python",
   "name": "python3"
  },
  "language_info": {
   "codemirror_mode": {
    "name": "ipython",
    "version": 3
   },
   "file_extension": ".py",
   "mimetype": "text/x-python",
   "name": "python",
   "nbconvert_exporter": "python",
   "pygments_lexer": "ipython3",
   "version": "3.10.12"
  }
 },
 "nbformat": 4,
 "nbformat_minor": 2
}

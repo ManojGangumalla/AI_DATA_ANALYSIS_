{
 "cells": [
  {
   "cell_type": "markdown",
   "metadata": {},
   "source": [
    "## Automating Data Cleaning in Python"
   ]
  },
  {
   "cell_type": "code",
   "execution_count": 1,
   "metadata": {},
   "outputs": [
    {
     "name": "stdout",
     "output_type": "stream",
     "text": [
      "        age    income\n",
      "0 -1.382872 -1.324367\n",
      "1 -0.856780 -0.944426\n",
      "2  0.270562  0.575340\n",
      "3  0.571186  0.303953\n",
      "4  1.397904  1.389500\n"
     ]
    }
   ],
   "source": [
    "# Write your code from here\n",
    "import pandas as pd\n",
    "from sklearn.pipeline import Pipeline\n",
    "from sklearn.preprocessing import StandardScaler\n",
    "\n",
    "# Step 1: Load sample dataset (using pandas)\n",
    "# For demonstration, we'll create a sample DataFrame\n",
    "data = {\n",
    "    'age': [25, 32, 47, 51, 62],\n",
    "    'income': [50000, 64000, 120000, 110000, 150000],\n",
    "    'gender': ['M', 'F', 'F', 'M', 'M']  # Non-numeric column, will be excluded from scaling\n",
    "}\n",
    "df = pd.DataFrame(data)\n",
    "\n",
    "# Step 2: Select numerical columns only\n",
    "numerical_cols = df.select_dtypes(include=['int64', 'float64']).columns\n",
    "\n",
    "# Step 3: Define the pipeline to scale numerical features\n",
    "pipeline = Pipeline([\n",
    "    ('scaler', StandardScaler())\n",
    "])\n",
    "\n",
    "# Step 4: Fit and transform numerical data\n",
    "scaled_data = pipeline.fit_transform(df[numerical_cols])\n",
    "\n",
    "# Optional: Convert scaled data back to DataFrame\n",
    "scaled_df = pd.DataFrame(scaled_data, columns=numerical_cols)\n",
    "\n",
    "print(scaled_df)\n",
    "\n",
    "\n",
    "\n",
    "\n",
    "\n",
    "\n",
    "\n",
    "\n",
    "\n",
    "\n"
   ]
  },
  {
   "cell_type": "markdown",
   "metadata": {
    "vscode": {
     "languageId": "plaintext"
    }
   },
   "source": [
    "    Task: Basic Pipeline with Scaling\n",
    "1. Objective: Create a pipeline that scales numerical features in a dataset.\n",
    "2. Steps:\n",
    "    - Load a sample dataset with Pandas.\n",
    "    - Define a pipeline using Pipeline from sklearn.pipeline .\n",
    "    - Use StandardScaler to scale features."
   ]
  },
  {
   "cell_type": "markdown",
   "metadata": {},
   "source": [
    "    Task: Pipeline with Imputation\n",
    "1. Objective: Automate data cleaning by handling missing values.\n",
    "2. Steps:\n",
    "    - Load a dataset with missing values.\n",
    "    - Define a pipeline to use SimpleImputer for filling missing values."
   ]
  },
  {
   "cell_type": "code",
   "execution_count": 2,
   "metadata": {},
   "outputs": [
    {
     "name": "stdout",
     "output_type": "stream",
     "text": [
      "     age    income\n",
      "0  25.00   50000.0\n",
      "1  46.25   64000.0\n",
      "2  47.00   93500.0\n",
      "3  51.00  110000.0\n",
      "4  62.00  150000.0\n"
     ]
    }
   ],
   "source": [
    "# Write your code from here\n",
    "import pandas as pd\n",
    "import numpy as np\n",
    "from sklearn.pipeline import Pipeline\n",
    "from sklearn.impute import SimpleImputer\n",
    "\n",
    "# Step 1: Create a sample dataset with missing values\n",
    "data = {\n",
    "    'age': [25, np.nan, 47, 51, 62],\n",
    "    'income': [50000, 64000, np.nan, 110000, 150000],\n",
    "    'gender': ['M', 'F', 'F', 'M', None]  # Missing value in categorical column\n",
    "}\n",
    "df = pd.DataFrame(data)\n",
    "\n",
    "# Step 2: Select numerical columns to impute\n",
    "numerical_cols = df.select_dtypes(include=['int64', 'float64']).columns\n",
    "\n",
    "# Step 3: Define a pipeline with SimpleImputer to fill missing numerical values with mean\n",
    "pipeline = Pipeline([\n",
    "    ('imputer', SimpleImputer(strategy='mean'))\n",
    "])\n",
    "\n",
    "# Step 4: Fit and transform the numerical columns\n",
    "imputed_data = pipeline.fit_transform(df[numerical_cols])\n",
    "\n",
    "# Optional: Convert back to DataFrame with same column names\n",
    "imputed_df = pd.DataFrame(imputed_data, columns=numerical_cols)\n",
    "\n",
    "print(imputed_df)"
   ]
  }
 ],
 "metadata": {
  "kernelspec": {
   "display_name": "Python 3",
   "language": "python",
   "name": "python3"
  },
  "language_info": {
   "codemirror_mode": {
    "name": "ipython",
    "version": 3
   },
   "file_extension": ".py",
   "mimetype": "text/x-python",
   "name": "python",
   "nbconvert_exporter": "python",
   "pygments_lexer": "ipython3",
   "version": "3.10.12"
  }
 },
 "nbformat": 4,
 "nbformat_minor": 2
}

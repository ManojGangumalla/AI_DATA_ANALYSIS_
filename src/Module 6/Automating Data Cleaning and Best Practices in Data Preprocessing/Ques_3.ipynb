{
 "cells": [
  {
   "cell_type": "markdown",
   "metadata": {},
   "source": [
    "## Best Practices for Data Preprocessing\n",
    "\n",
    "#### Always Explore & Visualize Data First"
   ]
  },
  {
   "cell_type": "code",
   "execution_count": 1,
   "metadata": {},
   "outputs": [
    {
     "name": "stdout",
     "output_type": "stream",
     "text": [
      "\n",
      "Summary Statistics:\n",
      "                 A          B           C\n",
      "count     5.000000   5.000000    6.000000\n",
      "mean    202.600000  32.000000  350.000000\n",
      "std     445.764287  19.235384  187.082869\n",
      "min       1.000000  10.000000  100.000000\n",
      "25%       2.000000  20.000000  225.000000\n",
      "50%       4.000000  30.000000  350.000000\n",
      "75%       6.000000  40.000000  475.000000\n",
      "max    1000.000000  60.000000  600.000000\n"
     ]
    },
    {
     "data": {
      "image/png": "[encoded data removed]",
      "text/plain": [
       "<Figure size 1000x600 with 4 Axes>"
      ]
     },
     "metadata": {},
     "output_type": "display_data"
    },
    {
     "name": "stdout",
     "output_type": "stream",
     "text": [
      "\n",
      "Missing Values:\n",
      "A    1\n",
      "B    1\n",
      "C    0\n",
      "dtype: int64\n",
      "\n",
      "Shape before dropna: (6, 3)\n",
      "Shape after dropna: (4, 3)\n",
      "\n",
      "Missing values filled using mean strategy.\n",
      "Outliers capped in A\n",
      "Outliers capped in B\n",
      "Outliers capped in C\n",
      "\n",
      "Applied MinMax Scaling\n",
      "\n",
      "Applied Robust Scaling\n",
      "\n",
      "Applied MaxAbs Scaling\n",
      "\n",
      "Preprocessing Steps Log:\n",
      "- Generated summary statistics\n",
      "- Plotted data distribution\n",
      "- Checked for missing values\n",
      "- Dropped missing values\n",
      "- Filled missing values using SimpleImputer\n",
      "- Handled outliers using capping\n",
      "- Applied MinMaxScaler\n",
      "- Applied RobustScaler\n",
      "- Applied MaxAbsScaler\n",
      "\n",
      "Stored Transformation Parameters (MinMaxScaler):\n",
      "{}\n",
      "\n",
      "--- Unit Tests ---\n",
      "✔ No missing values\n",
      "✔ Scaling bounds valid\n"
     ]
    }
   ],
   "source": [
    "import pandas as pd\n",
    "import numpy as np\n",
    "import matplotlib.pyplot as plt\n",
    "from sklearn.impute import SimpleImputer\n",
    "from sklearn.preprocessing import MinMaxScaler, RobustScaler, MaxAbsScaler\n",
    "\n",
    "# Sample dataset for demonstration\n",
    "df = pd.DataFrame({\n",
    "    'A': [1, 2, np.nan, 4, 1000, 6],\n",
    "    'B': [10, 20, 30, 40, np.nan, 60],\n",
    "    'C': [100, 200, 300, 400, 500, 600]\n",
    "})\n",
    "\n",
    "numeric_cols = df.select_dtypes(include=np.number).columns.tolist()\n",
    "log_steps = []\n",
    "\n",
    "# Task 1: Summary Statistics\n",
    "try:\n",
    "    print(\"\\nSummary Statistics:\")\n",
    "    print(df.describe())\n",
    "    log_steps.append(\"Generated summary statistics\")\n",
    "except Exception as e:\n",
    "    print(\"Error in summary statistics:\", e)\n",
    "\n",
    "# Task 2: Visualize Data Distribution\n",
    "try:\n",
    "    df.hist(bins=20, figsize=(10, 6))\n",
    "    plt.tight_layout()\n",
    "    plt.show()\n",
    "    log_steps.append(\"Plotted data distribution\")\n",
    "except Exception as e:\n",
    "    print(\"Error in data visualization:\", e)\n",
    "\n",
    "# Task 3: Checking for Null Values\n",
    "try:\n",
    "    print(\"\\nMissing Values:\")\n",
    "    print(df.isnull().sum())\n",
    "    log_steps.append(\"Checked for missing values\")\n",
    "except Exception as e:\n",
    "    print(\"Error checking nulls:\", e)\n",
    "\n",
    "# Task 4: Drop Missing Values\n",
    "try:\n",
    "    print(f\"\\nShape before dropna: {df.shape}\")\n",
    "    df = df.dropna()\n",
    "    print(f\"Shape after dropna: {df.shape}\")\n",
    "    log_steps.append(\"Dropped missing values\")\n",
    "except Exception as e:\n",
    "    print(\"Error dropping missing values:\", e)\n",
    "\n",
    "# Reload original data for imputation task\n",
    "df = pd.DataFrame({\n",
    "    'A': [1, 2, np.nan, 4, 1000, 6],\n",
    "    'B': [10, 20, 30, 40, np.nan, 60],\n",
    "    'C': [100, 200, 300, 400, 500, 600]\n",
    "})\n",
    "\n",
    "# Task 5: Fill Missing Values\n",
    "try:\n",
    "    imputer = SimpleImputer(strategy='mean')\n",
    "    df[numeric_cols] = imputer.fit_transform(df[numeric_cols])\n",
    "    print(\"\\nMissing values filled using mean strategy.\")\n",
    "    log_steps.append(\"Filled missing values using SimpleImputer\")\n",
    "except Exception as e:\n",
    "    print(\"Error filling missing values:\", e)\n",
    "\n",
    "# Task 6: Handling Outliers with Capping\n",
    "try:\n",
    "    for col in numeric_cols:\n",
    "        q_low = df[col].quantile(0.01)\n",
    "        q_high = df[col].quantile(0.99)\n",
    "        df[col] = np.clip(df[col], q_low, q_high)\n",
    "        print(f\"Outliers capped in {col}\")\n",
    "    log_steps.append(\"Handled outliers using capping\")\n",
    "except Exception as e:\n",
    "    print(\"Error capping outliers:\", e)\n",
    "\n",
    "# Task 7: Min-Max Scaling\n",
    "try:\n",
    "    scaler = MinMaxScaler()\n",
    "    df[numeric_cols] = scaler.fit_transform(df[numeric_cols])\n",
    "    print(\"\\nApplied MinMax Scaling\")\n",
    "    log_steps.append(\"Applied MinMaxScaler\")\n",
    "except Exception as e:\n",
    "    print(\"Error in MinMax Scaling:\", e)\n",
    "\n",
    "# Task 8: Robust Scaling\n",
    "try:\n",
    "    scaler = RobustScaler()\n",
    "    df[numeric_cols] = scaler.fit_transform(df[numeric_cols])\n",
    "    print(\"\\nApplied Robust Scaling\")\n",
    "    log_steps.append(\"Applied RobustScaler\")\n",
    "except Exception as e:\n",
    "    print(\"Error in Robust Scaling:\", e)\n",
    "\n",
    "# Task 9: MaxAbs Scaling\n",
    "try:\n",
    "    scaler = MaxAbsScaler()\n",
    "    df[numeric_cols] = scaler.fit_transform(df[numeric_cols])\n",
    "    print(\"\\nApplied MaxAbs Scaling\")\n",
    "    log_steps.append(\"Applied MaxAbsScaler\")\n",
    "except Exception as e:\n",
    "    print(\"Error in MaxAbs Scaling:\", e)\n",
    "\n",
    "# Task 10: Log Data Preprocessing Steps\n",
    "print(\"\\nPreprocessing Steps Log:\")\n",
    "for step in log_steps:\n",
    "    print(\"-\", step)\n",
    "\n",
    "# Task 11: Store Transformation Parameters\n",
    "try:\n",
    "    min_max_params = {'min': scaler.min_.tolist(), 'scale': scaler.scale_.tolist()} if isinstance(scaler, MinMaxScaler) else {}\n",
    "    print(\"\\nStored Transformation Parameters (MinMaxScaler):\")\n",
    "    print(min_max_params)\n",
    "    log_steps.append(\"Stored transformation parameters\")\n",
    "except Exception as e:\n",
    "    print(\"Error storing transformation parameters:\", e)\n",
    "\n",
    "# Unit Test Functions\n",
    "print(\"\\n--- Unit Tests ---\")\n",
    "def test_no_missing(df):\n",
    "    assert df.isnull().sum().sum() == 0, \"Missing values still present\"\n",
    "    print(\"✔ No missing values\")\n",
    "\n",
    "def test_scaling_bounds(df):\n",
    "    if isinstance(scaler, MaxAbsScaler):\n",
    "        assert df[numeric_cols].abs().max().max() <= 1.0, \"MaxAbsScaler failed\"\n",
    "    print(\"✔ Scaling bounds valid\")\n",
    "\n",
    "test_no_missing(df)\n",
    "test_scaling_bounds(df)\n",
    "\n"
   ]
  },
  {
   "cell_type": "markdown",
   "metadata": {},
   "source": [
    "## Handle Missing & Inconsistent Data Before Applying ML Models"
   ]
  },
  {
   "cell_type": "code",
   "execution_count": null,
   "metadata": {},
   "outputs": [
    {
     "name": "stdout",
     "output_type": "stream",
     "text": [
      "After dropping rows with missing values:\n",
      "     Age     Income Gender\n",
      "0   25.0    50000.0      M\n",
      "1   30.0    60000.0      F\n",
      "2   22.0    52000.0      F\n",
      "3   40.0    80000.0      M\n",
      "6  150.0  1200000.0      F\n",
      "\n",
      "\n",
      "Dropped 2 rows with missing values.\n",
      "After filling missing values with median:\n",
      "     Age     Income Gender\n",
      "0   25.0    50000.0      M\n",
      "1   30.0    60000.0      F\n",
      "2   22.0    52000.0      F\n",
      "3   40.0    80000.0      M\n",
      "6  150.0  1200000.0      F\n",
      "\n",
      "\n",
      "Imputation successful\n",
      "After capping outliers at 5th and 95th percentiles:\n",
      "     Age    Income Gender\n",
      "0   25.0   50400.0      M\n",
      "1   30.0   60000.0      F\n",
      "2   22.6   52000.0      F\n",
      "3   40.0   80000.0      M\n",
      "6  128.0  976000.0      F\n",
      "Capped outliers in column: Age\n",
      "Capped outliers in column: Income\n"
     ]
    },
    {
     "name": "stderr",
     "output_type": "stream",
     "text": [
      "/tmp/ipykernel_29603/2698053144.py:32: FutureWarning: A value is trying to be set on a copy of a DataFrame or Series through chained assignment using an inplace method.\n",
      "The behavior will change in pandas 3.0. This inplace method will never work because the intermediate object on which we are setting values always behaves as a copy.\n",
      "\n",
      "For example, when doing 'df[col].method(value, inplace=True)', try using 'df.method({col: value}, inplace=True)' or df[col] = df[col].method(value) instead, to perform the operation inplace on the original object.\n",
      "\n",
      "\n",
      "  df_fillna[col].fillna(median_val, inplace=True)\n",
      "/tmp/ipykernel_29603/2698053144.py:32: FutureWarning: A value is trying to be set on a copy of a DataFrame or Series through chained assignment using an inplace method.\n",
      "The behavior will change in pandas 3.0. This inplace method will never work because the intermediate object on which we are setting values always behaves as a copy.\n",
      "\n",
      "For example, when doing 'df[col].method(value, inplace=True)', try using 'df.method({col: value}, inplace=True)' or df[col] = df[col].method(value) instead, to perform the operation inplace on the original object.\n",
      "\n",
      "\n",
      "  df_fillna[col].fillna(median_val, inplace=True)\n"
     ]
    }
   ],
   "source": [
    "\n",
    "\n",
    "\n"
   ]
  },
  {
   "cell_type": "markdown",
   "metadata": {},
   "source": [
    "## Choose the Right Scaling Method"
   ]
  },
  {
   "cell_type": "code",
   "execution_count": null,
   "metadata": {},
   "outputs": [
    {
     "name": "stdout",
     "output_type": "stream",
     "text": [
      "Min-Max Scaled Data:\n",
      "        Age    Income\n",
      "0  0.166667  0.000000\n",
      "1  0.444444  0.142857\n",
      "2  0.000000  0.028571\n",
      "3  1.000000  0.428571\n",
      "4  0.333333  0.171429\n",
      "5  0.277778  0.285714\n",
      "6  0.722222  1.000000\n",
      "\n",
      "\n",
      "Robust Scaled Data:\n",
      "        Age    Income\n",
      "0 -0.461538 -0.631579\n",
      "1  0.307692 -0.105263\n",
      "2 -0.923077 -0.526316\n",
      "3  1.846154  0.947368\n",
      "4  0.000000  0.000000\n",
      "5 -0.153846  0.421053\n",
      "6  1.076923  3.052632\n",
      "\n",
      "\n",
      "MaxAbs Scaled Data:\n",
      "     Age    Income\n",
      "0  0.625  0.416667\n",
      "1  0.750  0.500000\n",
      "2  0.550  0.433333\n",
      "3  1.000  0.666667\n",
      "4  0.700  0.516667\n",
      "5  0.675  0.583333\n",
      "6  0.875  1.000000\n",
      "Scaling failed: name 'check_numeric' is not defined\n"
     ]
    }
   ],
   "source": [
    "\n",
    "\n",
    "\n",
    "\n"
   ]
  },
  {
   "cell_type": "markdown",
   "metadata": {},
   "source": [
    "## Keep Track of Data Transformations for Reproducibility"
   ]
  },
  {
   "cell_type": "code",
   "execution_count": null,
   "metadata": {},
   "outputs": [
    {
     "name": "stdout",
     "output_type": "stream",
     "text": [
      "Preprocessing Log:\n",
      "- Imputed missing values using mean strategy.\n",
      "- Applied Min-Max scaling to numerical features.\n",
      "Stored scaling parameters: {'min': [25.0, 50000.0], 'max': [40.0, 62000.0]}\n"
     ]
    }
   ],
   "source": [
    "\n",
    "\n",
    "\n",
    "\n"
   ]
  }
 ],
 "metadata": {
  "kernelspec": {
   "display_name": "Python 3",
   "language": "python",
   "name": "python3"
  },
  "language_info": {
   "codemirror_mode": {
    "name": "ipython",
    "version": 3
   },
   "file_extension": ".py",
   "mimetype": "text/x-python",
   "name": "python",
   "nbconvert_exporter": "python",
   "pygments_lexer": "ipython3",
   "version": "3.10.12"
  }
 },
 "nbformat": 4,
 "nbformat_minor": 2
}

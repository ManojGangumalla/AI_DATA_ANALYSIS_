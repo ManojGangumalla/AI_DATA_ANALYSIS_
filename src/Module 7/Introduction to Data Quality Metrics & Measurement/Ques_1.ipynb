{
 "cells": [
  {
   "cell_type": "markdown",
   "metadata": {},
   "source": [
    "## Data Quality Dashboard in Python\n",
    "\n",
    "**Description**: Create a basic dashboard using a Python library (e.g., Plotly Dash) to visualize data quality metrics for a given dataset."
   ]
  },
  {
   "cell_type": "code",
   "execution_count": null,
   "metadata": {},
   "outputs": [
    {
     "ename": "AttributeError",
     "evalue": "'super' object has no attribute 'run_server'",
     "output_type": "error",
     "traceback": [
      "\u001b[0;31m---------------------------------------------------------------------------\u001b[0m",
      "\u001b[0;31mAttributeError\u001b[0m                            Traceback (most recent call last)",
      "Cell \u001b[0;32mIn[4], line 41\u001b[0m\n\u001b[1;32m     17\u001b[0m app\u001b[38;5;241m.\u001b[39mlayout \u001b[38;5;241m=\u001b[39m html\u001b[38;5;241m.\u001b[39mDiv([\n\u001b[1;32m     18\u001b[0m     html\u001b[38;5;241m.\u001b[39mH1(\u001b[38;5;124m\"\u001b[39m\u001b[38;5;124mData Quality Dashboard\u001b[39m\u001b[38;5;124m\"\u001b[39m, style\u001b[38;5;241m=\u001b[39m{\u001b[38;5;124m\"\u001b[39m\u001b[38;5;124mtextAlign\u001b[39m\u001b[38;5;124m\"\u001b[39m: \u001b[38;5;124m\"\u001b[39m\u001b[38;5;124mcenter\u001b[39m\u001b[38;5;124m\"\u001b[39m}),\n\u001b[1;32m     19\u001b[0m     dcc\u001b[38;5;241m.\u001b[39mGraph(\n\u001b[0;32m   (...)\u001b[0m\n\u001b[1;32m     37\u001b[0m     )\n\u001b[1;32m     38\u001b[0m ])\n\u001b[1;32m     40\u001b[0m \u001b[38;5;66;03m# Run the app in Jupyter Notebook\u001b[39;00m\n\u001b[0;32m---> 41\u001b[0m \u001b[43mapp\u001b[49m\u001b[38;5;241;43m.\u001b[39;49m\u001b[43mrun_server\u001b[49m\u001b[43m(\u001b[49m\u001b[43mmode\u001b[49m\u001b[38;5;241;43m=\u001b[39;49m\u001b[38;5;124;43m'\u001b[39;49m\u001b[38;5;124;43minline\u001b[39;49m\u001b[38;5;124;43m'\u001b[39;49m\u001b[43m,\u001b[49m\u001b[43m \u001b[49m\u001b[43mdebug\u001b[49m\u001b[38;5;241;43m=\u001b[39;49m\u001b[38;5;28;43;01mFalse\u001b[39;49;00m\u001b[43m)\u001b[49m\n",
      "File \u001b[0;32m~/.local/lib/python3.10/site-packages/jupyter_dash/jupyter_app.py:176\u001b[0m, in \u001b[0;36mJupyterDash.run_server\u001b[0;34m(self, mode, width, height, inline_exceptions, **kwargs)\u001b[0m\n\u001b[1;32m    154\u001b[0m \u001b[38;5;250m\u001b[39m\u001b[38;5;124;03m\"\"\"\u001b[39;00m\n\u001b[1;32m    155\u001b[0m \u001b[38;5;124;03mServe the app using flask in a background thread. You should not run this on a\u001b[39;00m\n\u001b[1;32m    156\u001b[0m \u001b[38;5;124;03mproduction server, use gunicorn/waitress instead.\u001b[39;00m\n\u001b[0;32m   (...)\u001b[0m\n\u001b[1;32m    173\u001b[0m \u001b[38;5;124;03m    ``Dash.run_server`` method.\u001b[39;00m\n\u001b[1;32m    174\u001b[0m \u001b[38;5;124;03m\"\"\"\u001b[39;00m\n\u001b[1;32m    175\u001b[0m \u001b[38;5;66;03m# Get superclass run_server method\u001b[39;00m\n\u001b[0;32m--> 176\u001b[0m super_run_server \u001b[38;5;241m=\u001b[39m \u001b[38;5;28;43msuper\u001b[39;49m\u001b[43m(\u001b[49m\u001b[43mJupyterDash\u001b[49m\u001b[43m,\u001b[49m\u001b[43m \u001b[49m\u001b[38;5;28;43mself\u001b[39;49m\u001b[43m)\u001b[49m\u001b[38;5;241;43m.\u001b[39;49m\u001b[43mrun_server\u001b[49m\n\u001b[1;32m    178\u001b[0m \u001b[38;5;28;01mif\u001b[39;00m \u001b[38;5;129;01mnot\u001b[39;00m JupyterDash\u001b[38;5;241m.\u001b[39m_in_ipython:\n\u001b[1;32m    179\u001b[0m     \u001b[38;5;66;03m# If not in IPython context, call run run_server synchronously\u001b[39;00m\n\u001b[1;32m    180\u001b[0m     super_run_server(\u001b[38;5;241m*\u001b[39m\u001b[38;5;241m*\u001b[39mkwargs)\n",
      "\u001b[0;31mAttributeError\u001b[0m: 'super' object has no attribute 'run_server'"
     ]
    }
   ],
   "source": [
    "import pandas as pd\n",
    "from jupyter_dash import JupyterDash\n",
    "from dash import html, dcc\n",
    "import plotly.graph_objs as go\n",
    "\n",
    "# Sample data quality metrics\n",
    "metrics = {\n",
    "    \"Dimension\": [\"Completeness\", \"Accuracy\", \"Consistency\", \"Validity\", \"Timeliness\", \"Uniqueness\"],\n",
    "    \"Score\": [90, 85, 80, 95, 88, 92]\n",
    "}\n",
    "df = pd.DataFrame(metrics)\n",
    "\n",
    "# Initialize the Dash app\n",
    "app = JupyterDash(__name__)\n",
    "\n",
    "# App layout\n",
    "app.layout = html.Div([\n",
    "    html.H1(\"Data Quality Dashboard\", style={\"textAlign\": \"center\"}),\n",
    "    dcc.Graph(\n",
    "        id='quality-graph',\n",
    "        figure={\n",
    "            'data': [\n",
    "                go.Bar(\n",
    "                    x=df['Dimension'],\n",
    "                    y=df['Score'],\n",
    "                    text=df['Score'],\n",
    "                    textposition='auto',\n",
    "                    marker=dict(color='steelblue')\n",
    "                )\n",
    "            ],\n",
    "            'layout': go.Layout(\n",
    "                title='Data Quality Scores by Dimension',\n",
    "                yaxis=dict(title='Score (%)', range=[0, 100]),\n",
    "                xaxis=dict(title='Dimension')\n",
    "            )\n",
    "        }\n",
    "    )\n",
    "])\n",
    "\n",
    "# Run the app in Jupyter Notebook\n",
    "app.run_server(mode='inline', debug=False)"
   ]
  }
 ],
 "metadata": {
  "kernelspec": {
   "display_name": "Python 3",
   "language": "python",
   "name": "python3"
  },
  "language_info": {
   "codemirror_mode": {
    "name": "ipython",
    "version": 3
   },
   "file_extension": ".py",
   "mimetype": "text/x-python",
   "name": "python",
   "nbconvert_exporter": "python",
   "pygments_lexer": "ipython3",
   "version": "3.10.12"
  }
 },
 "nbformat": 4,
 "nbformat_minor": 2
}

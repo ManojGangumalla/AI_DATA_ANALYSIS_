{
 "cells": [
  {
   "cell_type": "markdown",
   "metadata": {},
   "source": [
    "## Data Quality Framework Implementation\n",
    "\n",
    "**Description**: Implement a simple data quality measurement framework using ISO 8000 principles to assess key dimensions in a dataset."
   ]
  },
  {
   "cell_type": "code",
   "execution_count": 2,
   "metadata": {},
   "outputs": [
    {
     "name": "stdout",
     "output_type": "stream",
     "text": [
      "Completeness: 96.0%\n",
      "Accuracy: 80.0%\n",
      "Consistency: 100.0%\n",
      "Validity: 80.0%\n",
      "Timeliness: 0.0%\n",
      "Uniqueness: 80.0%\n",
      "Overall: 72.67%\n"
     ]
    }
   ],
   "source": [
    "import pandas as pd\n",
    "import numpy as np\n",
    "from datetime import datetime, timedelta\n",
    "import re\n",
    "\n",
    "# ------------------------------\n",
    "# Custom Sample Dataset\n",
    "# ------------------------------\n",
    "data = pd.DataFrame({\n",
    "    \"customer_id\": [1, 2, 3, 3, 5],\n",
    "    \"name\": [\"Alice\", \"Bob\", \"Charlie\", None, \"Eve\"],\n",
    "    \"email\": [\"alice@example.com\", \"bob@example\", \"charlie@example.com\", \"charlie@example.com\", \"eve@example.com\"],\n",
    "    \"last_updated\": [\"2023-05-01\", \"2021-01-01\", \"2024-03-01\", \"2022-12-15\", \"2023-11-20\"],\n",
    "    \"phone\": [\"(123) 456-7890\", \"(234) 567-8901\", \"123-456-7890\", \"(345) 678-9012\", \"(456) 789-0123\"]\n",
    "})\n",
    "\n",
    "# Convert date column to datetime\n",
    "data[\"last_updated\"] = pd.to_datetime(data[\"last_updated\"], errors='coerce')\n",
    "\n",
    "# ------------------------------\n",
    "# Initialize Scores\n",
    "# ------------------------------\n",
    "scores = {}\n",
    "\n",
    "# ------------------------------\n",
    "# 1. Completeness\n",
    "# ------------------------------\n",
    "completeness = data.notnull().mean().mean() * 100\n",
    "scores[\"Completeness\"] = round(completeness, 2)\n",
    "\n",
    "# ------------------------------\n",
    "# 2. Accuracy (Simple: valid email contains '@' and '.')\n",
    "# ------------------------------\n",
    "def is_email_valid(email):\n",
    "    return isinstance(email, str) and \"@\" in email and \".\" in email\n",
    "\n",
    "accuracy = data[\"email\"].apply(is_email_valid).mean() * 100\n",
    "scores[\"Accuracy\"] = round(accuracy, 2)\n",
    "\n",
    "# ------------------------------\n",
    "# 3. Consistency (email must be same for same customer_id)\n",
    "# ------------------------------\n",
    "consistency_issues = 0\n",
    "grouped = data.groupby(\"customer_id\")[\"email\"].nunique()\n",
    "if any(grouped > 1):\n",
    "    consistency_issues = sum(grouped > 1)\n",
    "consistency = ((len(grouped) - consistency_issues) / len(grouped)) * 100\n",
    "scores[\"Consistency\"] = round(consistency, 2)\n",
    "\n",
    "# ------------------------------\n",
    "# 4. Validity (phone must match (XXX) XXX-XXXX)\n",
    "# ------------------------------\n",
    "phone_pattern = re.compile(r\"^\\(\\d{3}\\) \\d{3}-\\d{4}$\")\n",
    "validity = data[\"phone\"].apply(lambda x: bool(phone_pattern.match(str(x)))).mean() * 100\n",
    "scores[\"Validity\"] = round(validity, 2)\n",
    "\n",
    "# ------------------------------\n",
    "# 5. Timeliness (must be updated within 1 year from today)\n",
    "# ------------------------------\n",
    "cutoff_date = datetime.now() - timedelta(days=365)\n",
    "timeliness = (data[\"last_updated\"] > cutoff_date).mean() * 100\n",
    "scores[\"Timeliness\"] = round(timeliness, 2)\n",
    "\n",
    "# ------------------------------\n",
    "# 6. Uniqueness (check duplicate customer_id)\n",
    "# ------------------------------\n",
    "uniqueness = (1 - data.duplicated(subset=[\"customer_id\"]).mean()) * 100\n",
    "scores[\"Uniqueness\"] = round(uniqueness, 2)\n",
    "\n",
    "# ------------------------------\n",
    "# Overall Data Quality Score\n",
    "# ------------------------------\n",
    "overall = round(np.mean(list(scores.values())), 2)\n",
    "scores[\"Overall\"] = overall\n",
    "\n",
    "# ------------------------------\n",
    "# Output Results\n",
    "# ------------------------------\n",
    "for dimension, score in scores.items():\n",
    "    print(f\"{dimension}: {score}%\")"
   ]
  }
 ],
 "metadata": {
  "kernelspec": {
   "display_name": "Python 3",
   "language": "python",
   "name": "python3"
  },
  "language_info": {
   "codemirror_mode": {
    "name": "ipython",
    "version": 3
   },
   "file_extension": ".py",
   "mimetype": "text/x-python",
   "name": "python",
   "nbconvert_exporter": "python",
   "pygments_lexer": "ipython3",
   "version": "3.10.12"
  }
 },
 "nbformat": 4,
 "nbformat_minor": 2
}

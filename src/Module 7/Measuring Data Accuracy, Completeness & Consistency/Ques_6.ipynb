{
 "cells": [
  {
   "cell_type": "markdown",
   "metadata": {},
   "source": [
    "## Architecture to Monitor Data Quality Over Time\n",
    "\n",
    "**Description**: Design a monitoring system in Python that checks and logs data quality metrics (accuracy, completeness) for a dataset over time.\n",
    "\n",
    "**Steps to follow:**\n",
    "1. Implement a Scheduled Script:\n",
    "    - Use schedule library to periodically run a script.\n",
    "2. Script to Calculate Metrics:\n",
    "    - For simplicity, use a function calculate_quality_metrics() that calculates and logs metrics such as missing rate or mismatch rate.\n",
    "3. Store Logs:\n",
    "    - Use Python's logging library to save these metrics over time."
   ]
  },
  {
   "cell_type": "code",
   "execution_count": 1,
   "metadata": {},
   "outputs": [
    {
     "name": "stdout",
     "output_type": "stream",
     "text": [
      "Data quality monitoring started...\n"
     ]
    },
    {
     "ename": "KeyboardInterrupt",
     "evalue": "",
     "output_type": "error",
     "traceback": [
      "\u001b[0;31m---------------------------------------------------------------------------\u001b[0m",
      "\u001b[0;31mKeyboardInterrupt\u001b[0m                         Traceback (most recent call last)",
      "Cell \u001b[0;32mIn[1], line 56\u001b[0m\n\u001b[1;32m     54\u001b[0m \u001b[38;5;28;01mwhile\u001b[39;00m \u001b[38;5;28;01mTrue\u001b[39;00m:\n\u001b[1;32m     55\u001b[0m     schedule\u001b[38;5;241m.\u001b[39mrun_pending()\n\u001b[0;32m---> 56\u001b[0m     \u001b[43mtime\u001b[49m\u001b[38;5;241;43m.\u001b[39;49m\u001b[43msleep\u001b[49m\u001b[43m(\u001b[49m\u001b[38;5;241;43m30\u001b[39;49m\u001b[43m)\u001b[49m\n",
      "\u001b[0;31mKeyboardInterrupt\u001b[0m: "
     ]
    }
   ],
   "source": [
    "# Write your code from here\n",
    "import pandas as pd\n",
    "import schedule\n",
    "import time\n",
    "import logging\n",
    "from datetime import datetime\n",
    "\n",
    "# Setup logging\n",
    "logging.basicConfig(\n",
    "    filename=\"data_quality.log\",\n",
    "    level=logging.INFO,\n",
    "    format=\"%(asctime)s - %(levelname)s - %(message)s\"\n",
    ")\n",
    "\n",
    "def calculate_quality_metrics(file_path):\n",
    "    \"\"\"\n",
    "    Load dataset and calculate data quality metrics:\n",
    "    - Missing data rate (completeness)\n",
    "    - Example mismatch rate (accuracy) between two columns if applicable\n",
    "    \"\"\"\n",
    "\n",
    "    try:\n",
    "        df = pd.read_csv(file_path)\n",
    "\n",
    "        # Completeness: overall missing rate (%)\n",
    "        missing_rate = df.isnull().mean().mean() * 100\n",
    "\n",
    "        # Accuracy example: mismatch rate between two columns if exist (optional)\n",
    "        if \"value_1\" in df.columns and \"value_2\" in df.columns:\n",
    "            mismatch_rate = (df[\"value_1\"] != df[\"value_2\"]).mean() * 100\n",
    "        else:\n",
    "            mismatch_rate = None\n",
    "\n",
    "        # Log the metrics\n",
    "        log_msg = f\"Missing Rate: {missing_rate:.2f}%\"\n",
    "        if mismatch_rate is not None:\n",
    "            log_msg += f\", Mismatch Rate: {mismatch_rate:.2f}%\"\n",
    "\n",
    "        logging.info(log_msg)\n",
    "        print(log_msg)  # Optional: print to console\n",
    "\n",
    "    except Exception as e:\n",
    "        logging.error(f\"Error calculating metrics: {e}\")\n",
    "        print(f\"Error: {e}\")\n",
    "\n",
    "def job():\n",
    "    print(f\"Running data quality check at {datetime.now()}\")\n",
    "    calculate_quality_metrics(\"your_dataset.csv\")\n",
    "\n",
    "# Schedule the job every day at 10:00 AM\n",
    "schedule.every().day.at(\"10:00\").do(job)\n",
    "\n",
    "print(\"Data quality monitoring started...\")\n",
    "while True:\n",
    "    schedule.run_pending()\n",
    "    time.sleep(30)\n",
    "\n"
   ]
  }
 ],
 "metadata": {
  "kernelspec": {
   "display_name": "Python 3",
   "language": "python",
   "name": "python3"
  },
  "language_info": {
   "codemirror_mode": {
    "name": "ipython",
    "version": 3
   },
   "file_extension": ".py",
   "mimetype": "text/x-python",
   "name": "python",
   "nbconvert_exporter": "python",
   "pygments_lexer": "ipython3",
   "version": "3.10.12"
  }
 },
 "nbformat": 4,
 "nbformat_minor": 2
}

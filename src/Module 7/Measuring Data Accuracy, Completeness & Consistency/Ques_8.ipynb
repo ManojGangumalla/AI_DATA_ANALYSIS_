{
 "cells": [
  {
   "cell_type": "markdown",
   "metadata": {},
   "source": [
    "# Measuring Data Accuracy\n",
    "\n",
    "**Activity Overview**: Assess data accuracy by comparing it to a trusted source and detecting incorrect values or mismatches.\n",
    "\n",
    "## Title: Product Pricing\n",
    "\n",
    "**Task**: Compare a dataset of product prices with the latest official price list.\n",
    "\n",
    "**Steps**:\n",
    "1. Obtain the latest product price list from the official company website.\n",
    "2. Compare the dataset's product prices against the verified list.\n",
    "3. Identify any discrepancies and mark them for correction."
   ]
  },
  {
   "cell_type": "code",
   "execution_count": 1,
   "metadata": {},
   "outputs": [
    {
     "name": "stdout",
     "output_type": "stream",
     "text": [
      "Found 3 discrepancies in product pricing:\n",
      "\n",
      "   product_id  price_company  price_official\n",
      "1         102          29.99           27.99\n",
      "3         104          10.00           12.00\n",
      "4         105          25.00             NaN\n"
     ]
    }
   ],
   "source": [
    "# Write your code from here\n",
    "import pandas as pd\n",
    "\n",
    "# Load datasets\n",
    "company_prices = pd.read_csv(\"company_prices.csv\")\n",
    "official_prices = pd.read_csv(\"official_prices.csv\")\n",
    "\n",
    "# Merge on product_id to compare prices side by side\n",
    "merged = pd.merge(company_prices, official_prices, on=\"product_id\", how=\"left\", suffixes=('_company', '_official'))\n",
    "\n",
    "# Identify mismatches where prices differ or official price missing\n",
    "discrepancies = merged[\n",
    "    (merged['price_company'] != merged['price_official']) | (merged['price_official'].isnull())\n",
    "]\n",
    "\n",
    "print(f\"Found {len(discrepancies)} discrepancies in product pricing:\\n\")\n",
    "print(discrepancies)\n",
    "\n",
    "# Optional: Save discrepancies for correction\n",
    "discrepancies.to_csv(\"price_discrepancies.csv\", index=False)\n"
   ]
  }
 ],
 "metadata": {
  "kernelspec": {
   "display_name": "Python 3",
   "language": "python",
   "name": "python3"
  },
  "language_info": {
   "codemirror_mode": {
    "name": "ipython",
    "version": 3
   },
   "file_extension": ".py",
   "mimetype": "text/x-python",
   "name": "python",
   "nbconvert_exporter": "python",
   "pygments_lexer": "ipython3",
   "version": "3.10.12"
  }
 },
 "nbformat": 4,
 "nbformat_minor": 2
}

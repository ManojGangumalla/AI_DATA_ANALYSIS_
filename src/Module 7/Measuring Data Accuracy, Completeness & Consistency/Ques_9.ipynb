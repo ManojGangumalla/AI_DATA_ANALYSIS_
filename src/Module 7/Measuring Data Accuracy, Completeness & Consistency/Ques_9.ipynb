{
 "cells": [
  {
   "cell_type": "markdown",
   "metadata": {},
   "source": [
    "# Measuring Completeness\n",
    "\n",
    "**Activity Overview**: Evaluate data completeness by checking missing data rates and handling partially available records.\n",
    "\n",
    "## Title: Customer Profiles\n",
    "\n",
    "**Task**: Calculate the missing data rate for customer profiles.\n",
    "\n",
    "**Steps**:\n",
    "1. List all required fields for a complete customer profile (e.g., name, address, email,\n",
    "phone number).\n",
    "2. Analyze the dataset to count how many profiles have missing fields.\n",
    "3. Calculate the percentage of missing data fields across all profiles."
   ]
  },
  {
   "cell_type": "code",
   "execution_count": 5,
   "metadata": {},
   "outputs": [
    {
     "name": "stdout",
     "output_type": "stream",
     "text": [
      "Total Profiles: 5\n",
      "Incomplete Profiles: 3\n",
      "Missing Data Rate: 30.00%\n"
     ]
    }
   ],
   "source": [
    "# Write your code from here\n",
    "import pandas as pd\n",
    "\n",
    "# Load customer data\n",
    "df = pd.read_csv(\"customer_profiles.csv\")\n",
    "\n",
    "# Define required fields\n",
    "required_fields = [\"name\", \"address\", \"email\", \"phone_number\"]\n",
    "\n",
    "# Count missing fields per record\n",
    "df[\"missing_fields_count\"] = df[required_fields].isnull().sum(axis=1)\n",
    "\n",
    "# Count profiles with any missing required fields\n",
    "incomplete_profiles = df[df[\"missing_fields_count\"] > 0]\n",
    "\n",
    "# Calculate total missing fields\n",
    "total_missing = df[required_fields].isnull().sum().sum()\n",
    "\n",
    "# Calculate total fields (rows x columns)\n",
    "total_expected_fields = df.shape[0] * len(required_fields)\n",
    "\n",
    "# Calculate missing data rate\n",
    "missing_rate = (total_missing / total_expected_fields) * 100\n",
    "\n",
    "print(f\"Total Profiles: {df.shape[0]}\")\n",
    "print(f\"Incomplete Profiles: {len(incomplete_profiles)}\")\n",
    "print(f\"Missing Data Rate: {missing_rate:.2f}%\")\n",
    "\n",
    "# Optional: Save incomplete profiles\n",
    "incomplete_profiles.to_csv(\"incomplete_customer_profiles.csv\", index=False)\n"
   ]
  }
 ],
 "metadata": {
  "kernelspec": {
   "display_name": "Python 3",
   "language": "python",
   "name": "python3"
  },
  "language_info": {
   "codemirror_mode": {
    "name": "ipython",
    "version": 3
   },
   "file_extension": ".py",
   "mimetype": "text/x-python",
   "name": "python",
   "nbconvert_exporter": "python",
   "pygments_lexer": "ipython3",
   "version": "3.10.12"
  }
 },
 "nbformat": 4,
 "nbformat_minor": 2
}

{
 "cells": [
  {
   "cell_type": "markdown",
   "metadata": {},
   "source": [
    "## Advanced Consistency Check with Hierarchical Data\n",
    "\n",
    "**Description**: You have two datasets `orders.csv` and `order_items.csv` . Perform a consistency check to ensure each order in `orders.csv` has corresponding items in `order_items.csv` ."
   ]
  },
  {
   "cell_type": "code",
   "execution_count": 1,
   "metadata": {},
   "outputs": [
    {
     "name": "stdout",
     "output_type": "stream",
     "text": [
      "Total orders: 4\n",
      "Orders with items: 3\n",
      "Orders WITHOUT items (inconsistent): 1\n",
      "\n",
      "Inconsistent orders (no items found):\n",
      "   order_id  customer_id  order_date\n",
      "2      1003          503  2024-04-03\n"
     ]
    }
   ],
   "source": [
    "# Write your code from here\n",
    "import pandas as pd\n",
    "\n",
    "# Load datasets\n",
    "orders = pd.read_csv(\"orders.csv\")\n",
    "order_items = pd.read_csv(\"order_items.csv\")\n",
    "\n",
    "# Find orders with no corresponding items\n",
    "orders_with_items = order_items['order_id'].unique()\n",
    "inconsistent_orders = orders[~orders['order_id'].isin(orders_with_items)]\n",
    "\n",
    "# Report results\n",
    "print(f\"Total orders: {len(orders)}\")\n",
    "print(f\"Orders with items: {len(orders) - len(inconsistent_orders)}\")\n",
    "print(f\"Orders WITHOUT items (inconsistent): {len(inconsistent_orders)}\")\n",
    "\n",
    "if not inconsistent_orders.empty:\n",
    "    print(\"\\nInconsistent orders (no items found):\")\n",
    "    print(inconsistent_orders)\n",
    "\n",
    "    # Optional: Save inconsistencies to CSV\n",
    "    inconsistent_orders.to_csv(\"inconsistent_orders.csv\", index=False)\n",
    "else:\n",
    "    print(\"All orders have corresponding items.\")\n"
   ]
  }
 ],
 "metadata": {
  "kernelspec": {
   "display_name": "Python 3",
   "language": "python",
   "name": "python3"
  },
  "language_info": {
   "codemirror_mode": {
    "name": "ipython",
    "version": 3
   },
   "file_extension": ".py",
   "mimetype": "text/x-python",
   "name": "python",
   "nbconvert_exporter": "python",
   "pygments_lexer": "ipython3",
   "version": "3.10.12"
  }
 },
 "nbformat": 4,
 "nbformat_minor": 2
}

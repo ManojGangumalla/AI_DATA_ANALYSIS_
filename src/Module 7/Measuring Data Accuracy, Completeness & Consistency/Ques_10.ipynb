{
 "cells": [
  {
   "cell_type": "markdown",
   "metadata": {},
   "source": [
    "# Ensuring Consistency\n",
    "\n",
    "**Activity Overview**: Ensure consistency by identifying and resolving conflicting values across datasets.\n",
    "\n",
    "## Title: Customer Address Discrepancies\n",
    "\n",
    "**Task**: Address customer address mismatches between CRM and marketing databases.\n",
    "\n",
    "**Steps**:\n",
    "1. Compare customer addresses in the CRM with those in the marketing database.\n",
    "2. Identify records with conflicting address information.\n",
    "3. Propose a method to consolidate records with verified addresses."
   ]
  },
  {
   "cell_type": "code",
   "execution_count": 1,
   "metadata": {},
   "outputs": [
    {
     "name": "stdout",
     "output_type": "stream",
     "text": [
      "Conflicting address records:\n",
      "\n",
      "   customer_id     name_crm  address_crm     name_mkt     address_mkt\n",
      "0            1     John Doe   123 Elm St     John Doe  123 Elm Street\n",
      "2            3  Alan Turner  789 Pine Rd  Alan Turner   789 Pine Road\n"
     ]
    }
   ],
   "source": [
    "# Write your code from here\n",
    "import pandas as pd\n",
    "\n",
    "# Load both datasets\n",
    "crm_df = pd.read_csv(\"crm_customers.csv\")\n",
    "mkt_df = pd.read_csv(\"marketing_customers.csv\")\n",
    "\n",
    "# Merge on customer_id\n",
    "merged_df = crm_df.merge(mkt_df, on=\"customer_id\", suffixes=('_crm', '_mkt'))\n",
    "\n",
    "# Identify conflicting addresses\n",
    "address_mismatches = merged_df[merged_df[\"address_crm\"] != merged_df[\"address_mkt\"]]\n",
    "\n",
    "print(\"Conflicting address records:\\n\")\n",
    "print(address_mismatches)\n",
    "\n",
    "# Save for review if needed\n",
    "address_mismatches.to_csv(\"conflicting_addresses.csv\", index=False)\n"
   ]
  }
 ],
 "metadata": {
  "kernelspec": {
   "display_name": "Python 3",
   "language": "python",
   "name": "python3"
  },
  "language_info": {
   "codemirror_mode": {
    "name": "ipython",
    "version": 3
   },
   "file_extension": ".py",
   "mimetype": "text/x-python",
   "name": "python",
   "nbconvert_exporter": "python",
   "pygments_lexer": "ipython3",
   "version": "3.10.12"
  }
 },
 "nbformat": 4,
 "nbformat_minor": 2
}

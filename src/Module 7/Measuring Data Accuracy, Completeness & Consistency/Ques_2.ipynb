{
 "cells": [
  {
   "cell_type": "markdown",
   "metadata": {},
   "source": [
    "## Find Conflicting Values Across Datasets\n",
    "\n",
    "**Description**: You have two datasets: `crm_customers.csv` and `erp_customers.csv` . Find customers with conflicting \"email\" information."
   ]
  },
  {
   "cell_type": "code",
   "execution_count": 1,
   "metadata": {},
   "outputs": [
    {
     "name": "stdout",
     "output_type": "stream",
     "text": [
      "Customers with conflicting email information:\n",
      "   customer_id        email_crm          email_erp\n",
      "1            2  bob@example.com  bobby@example.com\n",
      "3            4    david@crm.com      david@erp.com\n"
     ]
    }
   ],
   "source": [
    "# Write your code from here\n",
    "import pandas as pd\n",
    "\n",
    "# Load datasets\n",
    "crm_df = pd.read_csv(\"crm_customers.csv\")\n",
    "erp_df = pd.read_csv(\"erp_customers.csv\")\n",
    "\n",
    "# Merge on customer_id\n",
    "merged_df = crm_df.merge(erp_df, on=\"customer_id\", suffixes=('_crm', '_erp'))\n",
    "\n",
    "# Find conflicting email values\n",
    "conflicts = merged_df[merged_df[\"email_crm\"] != merged_df[\"email_erp\"]]\n",
    "\n",
    "# Output the conflicts\n",
    "print(\"Customers with conflicting email information:\")\n",
    "print(conflicts[[\"customer_id\", \"email_crm\", \"email_erp\"]])\n",
    "\n",
    "# Save to file\n",
    "conflicts.to_csv(\"email_conflicts.csv\", index=False)"
   ]
  }
 ],
 "metadata": {
  "kernelspec": {
   "display_name": "Python 3",
   "language": "python",
   "name": "python3"
  },
  "language_info": {
   "codemirror_mode": {
    "name": "ipython",
    "version": 3
   },
   "file_extension": ".py",
   "mimetype": "text/x-python",
   "name": "python",
   "nbconvert_exporter": "python",
   "pygments_lexer": "ipython3",
   "version": "3.10.12"
  }
 },
 "nbformat": 4,
 "nbformat_minor": 2
}

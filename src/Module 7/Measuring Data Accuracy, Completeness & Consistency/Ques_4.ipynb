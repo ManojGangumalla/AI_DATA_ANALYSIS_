{
 "cells": [
  {
   "cell_type": "markdown",
   "metadata": {},
   "source": [
    "## Ensuring Consistency in Multi-source Data Integration\n",
    "\n",
    "**Description**: Validate the integration of two datasets `products_A.csv` and `products_B.csv` . Ensure consistency in product \"category\" information."
   ]
  },
  {
   "cell_type": "code",
   "execution_count": 1,
   "metadata": {},
   "outputs": [
    {
     "name": "stdout",
     "output_type": "stream",
     "text": [
      "Inconsistent category assignments found:\n",
      "   product_id   category_A category_B\n",
      "1         102  Electronics      Audio\n"
     ]
    }
   ],
   "source": [
    "# Write your code from here\n",
    "import pandas as pd\n",
    "\n",
    "# Load the datasets\n",
    "df_A = pd.read_csv(\"products_A.csv\")\n",
    "df_B = pd.read_csv(\"products_B.csv\")\n",
    "\n",
    "# Merge datasets on product_id\n",
    "merged_df = df_A.merge(df_B, on=\"product_id\", suffixes=('_A', '_B'))\n",
    "\n",
    "# Identify inconsistencies in the 'category' column\n",
    "category_conflicts = merged_df[merged_df[\"category_A\"] != merged_df[\"category_B\"]]\n",
    "\n",
    "# Output results\n",
    "print(\"Inconsistent category assignments found:\")\n",
    "print(category_conflicts[[\"product_id\", \"category_A\", \"category_B\"]])\n",
    "\n",
    "# Save inconsistencies to a CSV file\n",
    "category_conflicts.to_csv(\"category_inconsistencies.csv\", index=False)"
   ]
  }
 ],
 "metadata": {
  "kernelspec": {
   "display_name": "Python 3",
   "language": "python",
   "name": "python3"
  },
  "language_info": {
   "codemirror_mode": {
    "name": "ipython",
    "version": 3
   },
   "file_extension": ".py",
   "mimetype": "text/x-python",
   "name": "python",
   "nbconvert_exporter": "python",
   "pygments_lexer": "ipython3",
   "version": "3.10.12"
  }
 },
 "nbformat": 4,
 "nbformat_minor": 2
}

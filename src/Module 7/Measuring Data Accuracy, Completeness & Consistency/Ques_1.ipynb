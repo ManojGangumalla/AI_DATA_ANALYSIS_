{
 "cells": [
  {
   "cell_type": "markdown",
   "metadata": {},
   "source": [
    "### Task 1: Measure Data Accuracy using a Trusted Source\n",
    "\n",
    "**Description**: You have two datasets of product prices: `company_prices.csv` and\n",
    "`trusted_prices.csv` . Check if the prices in `company_prices.csv` match the prices in\n",
    "`trusted_prices.csv` . Assume both files have a \"product_id\" and \"price\" column."
   ]
  },
  {
   "cell_type": "code",
   "execution_count": 7,
   "metadata": {},
   "outputs": [
    {
     "name": "stdout",
     "output_type": "stream",
     "text": [
      "Total products compared: 5\n",
      "Matching prices: 3\n",
      "Data Accuracy: 60.00%\n"
     ]
    }
   ],
   "source": [
    "# Write your code from here\n",
    "import pandas as pd\n",
    "\n",
    "# Load the datasets\n",
    "company_df = pd.read_csv(\"company_prices.csv\")\n",
    "trusted_df = pd.read_csv(\"trusted_prices.csv\")\n",
    "\n",
    "# Merge the two datasets on product_id\n",
    "merged_df = company_df.merge(trusted_df, on=\"product_id\", suffixes=('_company', '_trusted'))\n",
    "\n",
    "# Compare the prices\n",
    "merged_df[\"price_match\"] = merged_df[\"price_company\"] == merged_df[\"price_trusted\"]\n",
    "\n",
    "# Calculate accuracy\n",
    "total_products = len(merged_df)\n",
    "matching_prices = merged_df[\"price_match\"].sum()\n",
    "accuracy_percentage = (matching_prices / total_products) * 100\n",
    "\n",
    "# Output results\n",
    "print(f\"Total products compared: {total_products}\")\n",
    "print(f\"Matching prices: {matching_prices}\")\n",
    "print(f\"Data Accuracy: {accuracy_percentage:.2f}%\")\n",
    "\n",
    "# Optional: Save mismatches to a CSV for review\n",
    "mismatches = merged_df[~merged_df[\"price_match\"]]\n",
    "mismatches.to_csv(\"price_mismatches.csv\", index=False)"
   ]
  },
  {
   "cell_type": "markdown",
   "metadata": {},
   "source": [
    "### Task 2: Detect Incorrect Values\n",
    "\n",
    "**Description**: In `company_prices.csv` , detect any negative price values which are incorrect values for prices."
   ]
  },
  {
   "cell_type": "code",
   "execution_count": 8,
   "metadata": {},
   "outputs": [
    {
     "name": "stdout",
     "output_type": "stream",
     "text": [
      "Total records with negative prices: 0\n",
      "Empty DataFrame\n",
      "Columns: [product_id, price]\n",
      "Index: []\n"
     ]
    }
   ],
   "source": [
    "# Write your code from here\n",
    "import pandas as pd\n",
    "\n",
    "# Load the dataset\n",
    "company_df = pd.read_csv(\"company_prices.csv\")\n",
    "\n",
    "# Detect negative price values\n",
    "invalid_prices = company_df[company_df[\"price\"] < 0]\n",
    "\n",
    "# Report results\n",
    "print(f\"Total records with negative prices: {len(invalid_prices)}\")\n",
    "print(invalid_prices)\n",
    "\n",
    "# Optional: Save the incorrect records to a separate CSV for review\n",
    "invalid_prices.to_csv(\"negative_price_records.csv\", index=False)"
   ]
  },
  {
   "cell_type": "markdown",
   "metadata": {},
   "source": [
    "### Task 3: Check Missing Data Rates\n",
    "\n",
    "**Description**: Calculate the percentage of missing values in `customer_data.csv` ."
   ]
  },
  {
   "cell_type": "code",
   "execution_count": 9,
   "metadata": {},
   "outputs": [
    {
     "name": "stdout",
     "output_type": "stream",
     "text": [
      "Percentage of Missing Values in Each Column:\n",
      "phone_number    37.5\n",
      "address         25.0\n",
      "email           25.0\n",
      "customer_id      0.0\n",
      "name             0.0\n",
      "dtype: float64\n"
     ]
    }
   ],
   "source": [
    "# Write your code from here\n",
    "import pandas as pd\n",
    "\n",
    "# Load the dataset\n",
    "customer_df = pd.read_csv(\"customer_data.csv\")\n",
    "\n",
    "# Calculate missing value percentages\n",
    "missing_percentages = customer_df.isnull().mean() * 100\n",
    "\n",
    "# Display the result\n",
    "print(\"Percentage of Missing Values in Each Column:\")\n",
    "print(missing_percentages.sort_values(ascending=False))\n",
    "\n",
    "# Optional: Save to a CSV file\n",
    "missing_percentages.to_csv(\"missing_data_report.csv\", header=[\"missing_percentage\"])"
   ]
  },
  {
   "cell_type": "markdown",
   "metadata": {},
   "source": [
    "### Task 4: Handling Partially Available Records\n",
    "\n",
    "**Description**: In `customer_data.csv` , identify records with missing \"email\" or \"phone number\" and decide whether to drop or fill them."
   ]
  },
  {
   "cell_type": "code",
   "execution_count": 10,
   "metadata": {},
   "outputs": [
    {
     "name": "stdout",
     "output_type": "stream",
     "text": [
      "Partially available records (missing email or phone number):\n",
      "   customer_id     name                email  phone_number          address\n",
      "1            2      Bob                  NaN  9.876543e+09   456 Orange Ave\n",
      "2            3  Charlie  charlie@example.com           NaN  789 Banana Blvd\n",
      "4            5      Eva                  NaN           NaN              NaN\n",
      "6            7    Grace    grace@example.com           NaN     654 Grape Ln\n",
      "\n",
      "Records after dropping incomplete entries: 4\n",
      "\n",
      "Records after filling missing values:\n",
      "   customer_id     name                 email  phone_number          address\n",
      "0            1    Alice     alice@example.com  1234567890.0     123 Apple St\n",
      "1            2      Bob  no_email@example.com  9876543210.0   456 Orange Ave\n",
      "2            3  Charlie   charlie@example.com    0000000000  789 Banana Blvd\n",
      "3            4    David     david@example.com  5555555555.0              NaN\n",
      "4            5      Eva  no_email@example.com    0000000000              NaN\n",
      "5            6    Frank     frank@example.com  2223334444.0     321 Peach Dr\n",
      "6            7    Grace     grace@example.com    0000000000     654 Grape Ln\n",
      "7            8    Henry     henry@example.com  1112223333.0    888 Mango Way\n"
     ]
    },
    {
     "name": "stderr",
     "output_type": "stream",
     "text": [
      "/tmp/ipykernel_1189/2021235644.py:19: FutureWarning: A value is trying to be set on a copy of a DataFrame or Series through chained assignment using an inplace method.\n",
      "The behavior will change in pandas 3.0. This inplace method will never work because the intermediate object on which we are setting values always behaves as a copy.\n",
      "\n",
      "For example, when doing 'df[col].method(value, inplace=True)', try using 'df.method({col: value}, inplace=True)' or df[col] = df[col].method(value) instead, to perform the operation inplace on the original object.\n",
      "\n",
      "\n",
      "  df_filled[\"email\"].fillna(\"no_email@example.com\", inplace=True)\n",
      "/tmp/ipykernel_1189/2021235644.py:20: FutureWarning: A value is trying to be set on a copy of a DataFrame or Series through chained assignment using an inplace method.\n",
      "The behavior will change in pandas 3.0. This inplace method will never work because the intermediate object on which we are setting values always behaves as a copy.\n",
      "\n",
      "For example, when doing 'df[col].method(value, inplace=True)', try using 'df.method({col: value}, inplace=True)' or df[col] = df[col].method(value) instead, to perform the operation inplace on the original object.\n",
      "\n",
      "\n",
      "  df_filled[\"phone_number\"].fillna(\"0000000000\", inplace=True)\n",
      "/tmp/ipykernel_1189/2021235644.py:20: FutureWarning: Setting an item of incompatible dtype is deprecated and will raise an error in a future version of pandas. Value '0000000000' has dtype incompatible with float64, please explicitly cast to a compatible dtype first.\n",
      "  df_filled[\"phone_number\"].fillna(\"0000000000\", inplace=True)\n"
     ]
    }
   ],
   "source": [
    "# Write your code from here\n",
    "import pandas as pd\n",
    "\n",
    "# Load the dataset\n",
    "df = pd.read_csv(\"customer_data.csv\")\n",
    "\n",
    "# Identify records with missing email or phone number\n",
    "partial_records = df[df[\"email\"].isnull() | df[\"phone_number\"].isnull()]\n",
    "\n",
    "print(\"Partially available records (missing email or phone number):\")\n",
    "print(partial_records)\n",
    "\n",
    "# OPTION 1: Drop incomplete records\n",
    "df_dropped = df.dropna(subset=[\"email\", \"phone_number\"])\n",
    "print(f\"\\nRecords after dropping incomplete entries: {len(df_dropped)}\")\n",
    "\n",
    "# OPTION 2: Fill missing values with placeholder text\n",
    "df_filled = df.copy()\n",
    "df_filled[\"email\"].fillna(\"no_email@example.com\", inplace=True)\n",
    "df_filled[\"phone_number\"].fillna(\"0000000000\", inplace=True)\n",
    "\n",
    "print(\"\\nRecords after filling missing values:\")\n",
    "print(df_filled)\n",
    "\n",
    "# Save outputs for review\n",
    "partial_records.to_csv(\"partial_records.csv\", index=False)\n",
    "df_dropped.to_csv(\"cleaned_data_dropped.csv\", index=False)\n",
    "df_filled.to_csv(\"cleaned_data_filled.csv\", index=False)"
   ]
  }
 ],
 "metadata": {
  "kernelspec": {
   "display_name": "Python 3",
   "language": "python",
   "name": "python3"
  },
  "language_info": {
   "codemirror_mode": {
    "name": "ipython",
    "version": 3
   },
   "file_extension": ".py",
   "mimetype": "text/x-python",
   "name": "python",
   "nbconvert_exporter": "python",
   "pygments_lexer": "ipython3",
   "version": "3.10.12"
  }
 },
 "nbformat": 4,
 "nbformat_minor": 2
}
